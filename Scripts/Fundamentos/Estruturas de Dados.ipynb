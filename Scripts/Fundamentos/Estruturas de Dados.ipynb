{
 "cells": [
  {
   "cell_type": "markdown",
   "id": "316736c2",
   "metadata": {},
   "source": [
    "# Estruturas de Dados\n",
    "****\n",
    "As estruturas de dados desempenham um papel fundamental na organização e manipulação de informações em qualquer linguagem de programação. Em Python, uma linguagem conhecida por sua simplicidade e flexibilidade, uma variedade de estruturas de dados está disponível para lidar com diferentes necessidades de armazenamento e processamento de dados.\n",
    "\n",
    "Nesta aula, exploraremos algumas das estruturas de dados mais comuns em Python, incluindo listas, tuplas, conjuntos, dicionários, séries e dataframes. Cada uma dessas estruturas possui características únicas que a tornam adequada para diferentes tipos de tarefas.\n",
    "***"
   ]
  },
  {
   "cell_type": "markdown",
   "id": "2d53db6b",
   "metadata": {},
   "source": [
    "##### Lista (list)\n",
    "\n",
    "As listas em Python são estruturas de dados fundamentais que permitem armazenar coleções ordenadas de itens. Elas são mutáveis, o que significa que você pode adicionar, remover e modificar elementos após a criação da lista. As listas são muito versáteis e são amplamente utilizadas em programação Python para armazenar e manipular conjuntos de dados.\n",
    "\n",
    "O tipo de dados lista é utilizado para representar uma sequência **mutável** de valores. Uma lista é criada colocando valores separados por vírgulas entre colchetes. Os valores podem ser de qualquer tipo.\n"
   ]
  },
  {
   "cell_type": "code",
   "execution_count": 3,
   "id": "64b950f9",
   "metadata": {},
   "outputs": [],
   "source": [
    "numeros = [10,20,30,40,100,2,4,6,17]"
   ]
  },
  {
   "cell_type": "markdown",
   "id": "e2fd481d",
   "metadata": {},
   "source": [
    "Acesso a Elementos \n",
    "\n",
    "Para acessar elementos individuais em uma lista, utilize índices começando do 0."
   ]
  },
  {
   "cell_type": "code",
   "execution_count": 9,
   "id": "150908a5",
   "metadata": {},
   "outputs": [
    {
     "name": "stdout",
     "output_type": "stream",
     "text": [
      "Primeiro elemento da lista 10\n",
      "Último elemento da lista 17\n"
     ]
    }
   ],
   "source": [
    "print(f'Primeiro elemento da lista {numeros[0]}')\n",
    "print(f'Último elemento da lista {numeros[-1]}')"
   ]
  },
  {
   "cell_type": "markdown",
   "id": "60e04a74",
   "metadata": {},
   "source": [
    "Adição de Elementos\n",
    "\n",
    "Adicione elementos ao final da lista com append() ou insira em uma posição específica com insert()."
   ]
  },
  {
   "cell_type": "code",
   "execution_count": 12,
   "id": "80633ca6",
   "metadata": {},
   "outputs": [],
   "source": [
    "numeros.append(14)"
   ]
  },
  {
   "cell_type": "code",
   "execution_count": 13,
   "id": "fcaf3c0b",
   "metadata": {},
   "outputs": [
    {
     "data": {
      "text/plain": [
       "[10, 20, 30, 40, 100, 2, 4, 6, 17, 30, 14]"
      ]
     },
     "execution_count": 13,
     "metadata": {},
     "output_type": "execute_result"
    }
   ],
   "source": [
    "numeros"
   ]
  },
  {
   "cell_type": "code",
   "execution_count": 14,
   "id": "518c9945",
   "metadata": {},
   "outputs": [
    {
     "data": {
      "text/plain": [
       "[10, 100, 20, 30, 40, 100, 2, 4, 6, 17, 30, 14]"
      ]
     },
     "execution_count": 14,
     "metadata": {},
     "output_type": "execute_result"
    }
   ],
   "source": [
    "numeros.insert(1, 100)\n",
    "numeros"
   ]
  },
  {
   "cell_type": "markdown",
   "id": "92827047",
   "metadata": {},
   "source": [
    "Remoção de Elementos\n",
    "\n",
    "Remova elementos com del, remove() ou pop()."
   ]
  },
  {
   "cell_type": "code",
   "execution_count": 18,
   "id": "fc89e965",
   "metadata": {},
   "outputs": [
    {
     "data": {
      "text/plain": [
       "[100, 30, 40, 100, 2, 4, 6, 17, 30, 14]"
      ]
     },
     "execution_count": 18,
     "metadata": {},
     "output_type": "execute_result"
    }
   ],
   "source": [
    "del numeros[0]\n",
    "numeros"
   ]
  },
  {
   "cell_type": "code",
   "execution_count": 19,
   "id": "51f6cafe",
   "metadata": {},
   "outputs": [
    {
     "data": {
      "text/plain": [
       "[30, 40, 100, 2, 4, 6, 17, 30, 14]"
      ]
     },
     "execution_count": 19,
     "metadata": {},
     "output_type": "execute_result"
    }
   ],
   "source": [
    "numeros.remove(100)\n",
    "numeros"
   ]
  },
  {
   "cell_type": "code",
   "execution_count": 20,
   "id": "5f9f1f8e",
   "metadata": {},
   "outputs": [
    {
     "data": {
      "text/plain": [
       "14"
      ]
     },
     "execution_count": 20,
     "metadata": {},
     "output_type": "execute_result"
    }
   ],
   "source": [
    "numeros.pop()"
   ]
  },
  {
   "cell_type": "code",
   "execution_count": 21,
   "id": "7ea079a6",
   "metadata": {},
   "outputs": [
    {
     "data": {
      "text/plain": [
       "[30, 40, 100, 2, 4, 6, 17, 30]"
      ]
     },
     "execution_count": 21,
     "metadata": {},
     "output_type": "execute_result"
    }
   ],
   "source": [
    "numeros"
   ]
  },
  {
   "cell_type": "markdown",
   "id": "ab1d738c",
   "metadata": {},
   "source": [
    "Concatenação de Listas\n",
    "\n",
    "Concatene listas com o operador +."
   ]
  },
  {
   "cell_type": "code",
   "execution_count": 22,
   "id": "4ca918b5",
   "metadata": {},
   "outputs": [
    {
     "data": {
      "text/plain": [
       "['Priscila', 'Dani', 'Keli', 'Andreus', 'Leo']"
      ]
     },
     "execution_count": 22,
     "metadata": {},
     "output_type": "execute_result"
    }
   ],
   "source": [
    "lista_alunos = ['Priscila', 'Dani', 'Keli', 'Andreus', 'Leo']\n",
    "lista_alunos"
   ]
  },
  {
   "cell_type": "code",
   "execution_count": 23,
   "id": "9267fd61",
   "metadata": {},
   "outputs": [
    {
     "data": {
      "text/plain": [
       "['BH', 'SP', 'PE', 'RJ', 17]"
      ]
     },
     "execution_count": 23,
     "metadata": {},
     "output_type": "execute_result"
    }
   ],
   "source": [
    "lista_cidades = ['BH', 'SP', 'PE', 'RJ', 17]\n",
    "lista_cidades"
   ]
  },
  {
   "cell_type": "code",
   "execution_count": 25,
   "id": "2bc630df",
   "metadata": {},
   "outputs": [
    {
     "data": {
      "text/plain": [
       "['Priscila', 'Dani', 'Keli', 'Andreus', 'Leo', 'BH', 'SP', 'PE', 'RJ', 17]"
      ]
     },
     "execution_count": 25,
     "metadata": {},
     "output_type": "execute_result"
    }
   ],
   "source": [
    "lista_alunos_cidades = lista_alunos + lista_cidades\n",
    "lista_alunos_cidades"
   ]
  },
  {
   "cell_type": "markdown",
   "id": "f8662f31",
   "metadata": {},
   "source": [
    "Fatiamento (Slicing)\n",
    "\n",
    "Extraia partes da lista usando a notação de fatiamento."
   ]
  },
  {
   "cell_type": "code",
   "execution_count": 29,
   "id": "3c734408",
   "metadata": {},
   "outputs": [
    {
     "data": {
      "text/plain": [
       "['Priscila', 'Dani', 'Keli']"
      ]
     },
     "execution_count": 29,
     "metadata": {},
     "output_type": "execute_result"
    }
   ],
   "source": [
    "lista_alunos_cidades[0:3]"
   ]
  },
  {
   "cell_type": "markdown",
   "id": "1432ca74",
   "metadata": {},
   "source": [
    "Ordenação\n",
    "\n",
    "Ordene os elementos de uma lista com sort() e inverta a ordem com reverse()."
   ]
  },
  {
   "cell_type": "code",
   "execution_count": 32,
   "id": "6e745735",
   "metadata": {},
   "outputs": [
    {
     "data": {
      "text/plain": [
       "[30, 40, 100, 2, 4, 6, 17, 30]"
      ]
     },
     "execution_count": 32,
     "metadata": {},
     "output_type": "execute_result"
    }
   ],
   "source": [
    "numeros"
   ]
  },
  {
   "cell_type": "code",
   "execution_count": 34,
   "id": "830437e7",
   "metadata": {},
   "outputs": [
    {
     "data": {
      "text/plain": [
       "[2, 4, 6, 17, 30, 30, 40, 100]"
      ]
     },
     "execution_count": 34,
     "metadata": {},
     "output_type": "execute_result"
    }
   ],
   "source": [
    "numeros.sort()\n",
    "\n",
    "numeros"
   ]
  },
  {
   "cell_type": "code",
   "execution_count": 35,
   "id": "5b81e66a",
   "metadata": {},
   "outputs": [
    {
     "data": {
      "text/plain": [
       "[100, 40, 30, 30, 17, 6, 4, 2]"
      ]
     },
     "execution_count": 35,
     "metadata": {},
     "output_type": "execute_result"
    }
   ],
   "source": [
    "numeros.reverse()\n",
    "numeros"
   ]
  },
  {
   "cell_type": "markdown",
   "id": "a1cb9db1",
   "metadata": {},
   "source": [
    "Busca de Elementos\n",
    "\n",
    "Verifique a presença de um elemento com in ou conte ocorrências com count()."
   ]
  },
  {
   "cell_type": "code",
   "execution_count": 38,
   "id": "88215198",
   "metadata": {},
   "outputs": [
    {
     "name": "stdout",
     "output_type": "stream",
     "text": [
      "Não esta lista\n"
     ]
    }
   ],
   "source": [
    "encontra = 144\n",
    "if encontra in numeros:\n",
    "    print('Sim encontra-se na lista')\n",
    "else:\n",
    "    print('Não esta lista')"
   ]
  },
  {
   "cell_type": "markdown",
   "id": "ca5291b3",
   "metadata": {},
   "source": [
    "***"
   ]
  },
  {
   "cell_type": "markdown",
   "id": "9c92e7b9",
   "metadata": {},
   "source": [
    "##### Tupla (tuple)\n",
    "O tipo de dados tupla é utilizado para representar uma sequência **imutável** de valores. Uma tupla é criada colocando valores separados por vírgulas entre parênteses. Os valores podem ser de qualquer tipo.\n",
    "\n",
    "1. O uso de tuplas em Python é muito comum quando se deseja armazenar um conjunto de valores que não devem ser modificados.\n",
    "\n",
    "2. As tuplas são utilizadas em diversas situações, como por exemplo, na representação de coordenadas geográficas (latitude e longitude), na definição de cores em sistemas de design gráfico, na criação de jogos que requerem o armazenamento de posições de elementos em uma grade, entre outros."
   ]
  },
  {
   "cell_type": "markdown",
   "id": "6c221a6d",
   "metadata": {},
   "source": [
    "Criação de uma Tupla\n",
    "\n",
    "Para criar uma tupla, você pode usar parênteses e separar os elementos por vírgulas."
   ]
  },
  {
   "cell_type": "code",
   "execution_count": 39,
   "id": "f1958448",
   "metadata": {},
   "outputs": [
    {
     "data": {
      "text/plain": [
       "(2, 4, 7, 18, 25)"
      ]
     },
     "execution_count": 39,
     "metadata": {},
     "output_type": "execute_result"
    }
   ],
   "source": [
    "tupla = (2,4,7,18,25)\n",
    "tupla"
   ]
  },
  {
   "cell_type": "markdown",
   "id": "87d36d39",
   "metadata": {},
   "source": [
    "Acesso a Elementos\n",
    "\n",
    "Os elementos de uma tupla são acessados por índices, começando do 0."
   ]
  },
  {
   "cell_type": "code",
   "execution_count": 41,
   "id": "5a1c6e8f",
   "metadata": {},
   "outputs": [
    {
     "data": {
      "text/plain": [
       "25"
      ]
     },
     "execution_count": 41,
     "metadata": {},
     "output_type": "execute_result"
    }
   ],
   "source": [
    "tupla[-1]"
   ]
  },
  {
   "cell_type": "markdown",
   "id": "b1e648c5",
   "metadata": {},
   "source": [
    "Fatiamento (Slicing) de uma Tupla\n",
    "\n",
    "Você pode extrair partes de uma tupla usando a notação de fatiamento."
   ]
  },
  {
   "cell_type": "code",
   "execution_count": 42,
   "id": "f2f90a7f",
   "metadata": {},
   "outputs": [
    {
     "data": {
      "text/plain": [
       "(2, 4, 7)"
      ]
     },
     "execution_count": 42,
     "metadata": {},
     "output_type": "execute_result"
    }
   ],
   "source": [
    "tupla[0:3]"
   ]
  },
  {
   "cell_type": "markdown",
   "id": "a78acac3",
   "metadata": {},
   "source": [
    "Concatenação de Tuplas\n",
    "\n",
    "Concatene tuplas usando o operador +."
   ]
  },
  {
   "cell_type": "code",
   "execution_count": 45,
   "id": "03924ddc",
   "metadata": {},
   "outputs": [
    {
     "data": {
      "text/plain": [
       "(10, 14, 20, 15)"
      ]
     },
     "execution_count": 45,
     "metadata": {},
     "output_type": "execute_result"
    }
   ],
   "source": [
    "tupla1 = (10,14)\n",
    "tupla2 = (20, 15)\n",
    "tupla1 + tupla2"
   ]
  },
  {
   "cell_type": "markdown",
   "id": "32f53d2c",
   "metadata": {},
   "source": [
    "Imutabilidade\n",
    "\n",
    "Tentativas de modificar elementos de uma tupla resultarão em erro."
   ]
  },
  {
   "cell_type": "code",
   "execution_count": 44,
   "id": "32d496da",
   "metadata": {},
   "outputs": [
    {
     "ename": "TypeError",
     "evalue": "'tuple' object does not support item assignment",
     "output_type": "error",
     "traceback": [
      "\u001b[1;31m---------------------------------------------------------------------------\u001b[0m",
      "\u001b[1;31mTypeError\u001b[0m                                 Traceback (most recent call last)",
      "Cell \u001b[1;32mIn[44], line 1\u001b[0m\n\u001b[1;32m----> 1\u001b[0m \u001b[43mtupla\u001b[49m\u001b[43m[\u001b[49m\u001b[38;5;241;43m0\u001b[39;49m\u001b[43m]\u001b[49m \u001b[38;5;241m=\u001b[39m \u001b[38;5;241m10\u001b[39m\n",
      "\u001b[1;31mTypeError\u001b[0m: 'tuple' object does not support item assignment"
     ]
    }
   ],
   "source": [
    "tupla[0] = 10"
   ]
  },
  {
   "cell_type": "markdown",
   "id": "c0b287a2",
   "metadata": {},
   "source": [
    "***"
   ]
  },
  {
   "cell_type": "markdown",
   "id": "03c3b87b",
   "metadata": {},
   "source": [
    "##### Dicionário (dict)\n",
    "O tipo de dado dicionário (dict) em Python é uma estrutura de dados que armazena valores em pares de chave-valor.\n",
    "\n",
    "Os dicionários em Python são estruturas de dados que permitem armazenar pares chave-valor, onde cada valor é associado a uma chave única. Eles são muito úteis para representar dados estruturados e indexados por chaves significativas, facilitando o acesso e a manipulação dos dados. Aqui estão algumas características importantes dos dicionários\n",
    "\n",
    "\n",
    "- Chaves Únicas: Cada chave em um dicionário é única, o que significa que não pode haver duas chaves iguais no mesmo dicionário. No entanto, os valores associados às chaves podem ser duplicados.\n",
    "\n",
    "- Mutabilidade: Os dicionários são mutáveis, o que significa que você pode adicionar, modificar e remover pares chave-valor após a criação do dicionário.\n",
    "\n",
    "- Flexibilidade: Os valores em um dicionário podem ser de qualquer tipo de dado, incluindo inteiros, strings, floats, listas, tuplas, conjuntos, outros dicionários e até mesmo funções.\n",
    "\n",
    "- Indexação por Chaves: Os elementos em um dicionário são acessados não por índices numéricos, como em listas e tuplas, mas sim por meio de chaves significativas."
   ]
  },
  {
   "cell_type": "markdown",
   "id": "ed0fcba8",
   "metadata": {},
   "source": [
    "Criação de um Dicionário\n",
    "\n",
    "Para criar um dicionário, você pode usar chaves {} e especificar pares chave-valor separados por vírgulas."
   ]
  },
  {
   "cell_type": "code",
   "execution_count": 3,
   "id": "795b7059",
   "metadata": {},
   "outputs": [],
   "source": [
    "pessoa = {\n",
    "    'nome': 'Leandro', \n",
    "    'idade': 18,\n",
    "    'cidade': 'BH', \n",
    "    'telefone': (31, '87471-1471')\n",
    "}"
   ]
  },
  {
   "cell_type": "code",
   "execution_count": 4,
   "id": "a8d6d887",
   "metadata": {},
   "outputs": [
    {
     "name": "stdout",
     "output_type": "stream",
     "text": [
      "{'nome': 'Leandro', 'idade': 18, 'cidade': 'BH', 'telefone': (31, '87471-1471')}\n"
     ]
    }
   ],
   "source": [
    "print(pessoa)"
   ]
  },
  {
   "cell_type": "markdown",
   "id": "790f178b",
   "metadata": {},
   "source": [
    "Acesso a Elementos por Chave\n",
    "\n",
    "Os elementos em um dicionário são acessados por suas chaves."
   ]
  },
  {
   "cell_type": "code",
   "execution_count": 49,
   "id": "2eb4efc1",
   "metadata": {},
   "outputs": [
    {
     "data": {
      "text/plain": [
       "'BH'"
      ]
     },
     "execution_count": 49,
     "metadata": {},
     "output_type": "execute_result"
    }
   ],
   "source": [
    "pessoa['cidade']"
   ]
  },
  {
   "cell_type": "code",
   "execution_count": 51,
   "id": "2c56402e",
   "metadata": {},
   "outputs": [
    {
     "data": {
      "text/plain": [
       "'Leandro'"
      ]
     },
     "execution_count": 51,
     "metadata": {},
     "output_type": "execute_result"
    }
   ],
   "source": [
    "pessoa['nome']"
   ]
  },
  {
   "cell_type": "code",
   "execution_count": 7,
   "id": "7d8760fb",
   "metadata": {},
   "outputs": [
    {
     "name": "stdout",
     "output_type": "stream",
     "text": [
      "2173443332016\n",
      "Andreus\n",
      "2173443334448\n",
      "Timm\n",
      "2173367288656\n",
      "20\n"
     ]
    }
   ],
   "source": [
    "test = ({'name' : 'Andreus', 'age' : 20})\n",
    "print(id(test['name']))\n",
    "print(test['name'])\n",
    "test['name'] = 'Timm'\n",
    "print(id(test['name']))\n",
    "print(test['name'])\n",
    "print(id(test['age']))\n",
    "print(test['age'])"
   ]
  },
  {
   "cell_type": "markdown",
   "id": "f535dbd5",
   "metadata": {},
   "source": [
    "Adição de Novos Pares Chave-Valor\n",
    "\n",
    "Você pode adicionar novos pares chave-valor a um dicionário atribuindo um valor a uma nova chave."
   ]
  },
  {
   "cell_type": "code",
   "execution_count": 60,
   "id": "140beb78",
   "metadata": {},
   "outputs": [
    {
     "data": {
      "text/plain": [
       "{'nome': 'Leandro',\n",
       " 'idade': 18,\n",
       " 'cidade': 'BH',\n",
       " 'telefone': (31, '87471-1471')}"
      ]
     },
     "execution_count": 60,
     "metadata": {},
     "output_type": "execute_result"
    }
   ],
   "source": [
    "pessoa"
   ]
  },
  {
   "cell_type": "code",
   "execution_count": 61,
   "id": "42d4b53d",
   "metadata": {},
   "outputs": [],
   "source": [
    "pessoa['profissao'] = 'professor/cientista de dados'"
   ]
  },
  {
   "cell_type": "code",
   "execution_count": 62,
   "id": "04baf8e0",
   "metadata": {},
   "outputs": [
    {
     "data": {
      "text/plain": [
       "{'nome': 'Leandro',\n",
       " 'idade': 18,\n",
       " 'cidade': 'BH',\n",
       " 'telefone': (31, '87471-1471'),\n",
       " 'profissao': 'professor/cientista de dados'}"
      ]
     },
     "execution_count": 62,
     "metadata": {},
     "output_type": "execute_result"
    }
   ],
   "source": [
    "pessoa"
   ]
  },
  {
   "cell_type": "markdown",
   "id": "b3fff67b",
   "metadata": {},
   "source": [
    "Modificação de Valores de Chaves Existentes\n",
    "\n",
    "Você pode modificar o valor associado a uma chave existente atribuindo um novo valor a essa chave."
   ]
  },
  {
   "cell_type": "code",
   "execution_count": 63,
   "id": "83cb5c0d",
   "metadata": {},
   "outputs": [
    {
     "data": {
      "text/plain": [
       "{'nome': 'Leandro',\n",
       " 'idade': 18,\n",
       " 'cidade': 'SP',\n",
       " 'telefone': (31, '87471-1471'),\n",
       " 'profissao': 'professor/cientista de dados'}"
      ]
     },
     "execution_count": 63,
     "metadata": {},
     "output_type": "execute_result"
    }
   ],
   "source": [
    "pessoa['cidade'] = 'SP'\n",
    "pessoa"
   ]
  },
  {
   "cell_type": "markdown",
   "id": "b8fd11ef",
   "metadata": {},
   "source": [
    "Remoção de Pares Chave-Valor\n",
    "\n",
    "Você pode remover pares chave-valor de um dicionário usando o comando del seguido da chave que deseja remover."
   ]
  },
  {
   "cell_type": "code",
   "execution_count": 64,
   "id": "9231a592",
   "metadata": {},
   "outputs": [],
   "source": [
    "del pessoa['telefone']"
   ]
  },
  {
   "cell_type": "code",
   "execution_count": 65,
   "id": "34a2033e",
   "metadata": {},
   "outputs": [
    {
     "data": {
      "text/plain": [
       "{'nome': 'Leandro',\n",
       " 'idade': 18,\n",
       " 'cidade': 'SP',\n",
       " 'profissao': 'professor/cientista de dados'}"
      ]
     },
     "execution_count": 65,
     "metadata": {},
     "output_type": "execute_result"
    }
   ],
   "source": [
    "pessoa"
   ]
  },
  {
   "cell_type": "markdown",
   "id": "7d1387c8",
   "metadata": {},
   "source": [
    "Iteração sobre Chaves e Valores\n",
    "\n",
    "Você pode iterar sobre as chaves, os valores ou ambos em um dicionário usando loops for."
   ]
  },
  {
   "cell_type": "code",
   "execution_count": 66,
   "id": "3282f4ae",
   "metadata": {},
   "outputs": [
    {
     "name": "stdout",
     "output_type": "stream",
     "text": [
      "nome\n",
      "idade\n",
      "cidade\n",
      "profissao\n"
     ]
    }
   ],
   "source": [
    "for chave in pessoa:\n",
    "    print(chave)\n"
   ]
  },
  {
   "cell_type": "code",
   "execution_count": 67,
   "id": "e84d329b",
   "metadata": {},
   "outputs": [
    {
     "name": "stdout",
     "output_type": "stream",
     "text": [
      "Leandro\n",
      "18\n",
      "SP\n",
      "professor/cientista de dados\n"
     ]
    }
   ],
   "source": [
    "for valor in pessoa.values():\n",
    "    print(valor)"
   ]
  },
  {
   "cell_type": "code",
   "execution_count": 71,
   "id": "3cdcd60d",
   "metadata": {},
   "outputs": [
    {
     "data": {
      "text/plain": [
       "dict_items([('nome', 'Leandro'), ('idade', 18), ('cidade', 'SP'), ('profissao', 'professor/cientista de dados')])"
      ]
     },
     "execution_count": 71,
     "metadata": {},
     "output_type": "execute_result"
    }
   ],
   "source": [
    "pessoa.items()"
   ]
  },
  {
   "cell_type": "code",
   "execution_count": 8,
   "id": "30f4d9aa",
   "metadata": {},
   "outputs": [
    {
     "name": "stdout",
     "output_type": "stream",
     "text": [
      "nome Leandro\n",
      "idade 18\n",
      "cidade BH\n",
      "telefone (31, '87471-1471')\n"
     ]
    }
   ],
   "source": [
    "for chave, valor in pessoa.items():\n",
    "    print(chave, valor)"
   ]
  },
  {
   "cell_type": "markdown",
   "id": "7fdf73c2",
   "metadata": {},
   "source": [
    "Criando uma lista de dicionários\n",
    "\n",
    "As listas de dicionários são úteis para armazenar e manipular coleções de registros com vários campos. Elas podem ser usadas em muitas aplicações, como por exemplo:\n",
    "\n",
    "- Banco de dados em memória: podem ser usadas para armazenar dados em memória, como se fosse um banco de dados.\n",
    "\n",
    "- Análise de dados:  podem ser usadas para armazenar dados de pesquisa, tais como resultados de experimentos científicos ou pesquisas de mercado.\n",
    "\n",
    "- Processamento de texto: podem ser usadas para armazenar dados de texto, tais como resultados de análise de sentimento ou de mineração de dados.\n",
    "\n",
    "- Configurações de aplicativos: podem ser usadas para armazenar configurações de aplicativos e preferências do usuário."
   ]
  },
  {
   "cell_type": "code",
   "execution_count": 73,
   "id": "a4a8331f",
   "metadata": {},
   "outputs": [],
   "source": [
    "lista_dicionarios = []\n",
    "\n",
    "pessoa1 = {\n",
    "    'nome': 'Davi', \n",
    "    'Curso': 'IA'\n",
    "}\n",
    "\n",
    "lista_dicionarios.append(pessoa1)"
   ]
  },
  {
   "cell_type": "code",
   "execution_count": 76,
   "id": "343a253e",
   "metadata": {},
   "outputs": [],
   "source": [
    "pessoa2= {\n",
    "    'nome': 'Andreus', \n",
    "    'Curso': 'IA'\n",
    "}\n",
    "\n",
    "lista_dicionarios.append(pessoa2)"
   ]
  },
  {
   "cell_type": "code",
   "execution_count": 78,
   "id": "15495ce5",
   "metadata": {},
   "outputs": [],
   "source": [
    "pessoa3= {\n",
    "    'nome': 'Keli', \n",
    "    'Curso': 'IA'\n",
    "}\n",
    "\n",
    "lista_dicionarios.append(pessoa3)"
   ]
  },
  {
   "cell_type": "code",
   "execution_count": 79,
   "id": "80cb8df6",
   "metadata": {},
   "outputs": [
    {
     "data": {
      "text/plain": [
       "[{'nome': 'Davi', 'Curso': 'IA'},\n",
       " {'nome': 'Andreus', 'Curso': 'IA'},\n",
       " {'nome': 'Keli', 'Curso': 'IA'}]"
      ]
     },
     "execution_count": 79,
     "metadata": {},
     "output_type": "execute_result"
    }
   ],
   "source": [
    "lista_dicionarios"
   ]
  },
  {
   "cell_type": "code",
   "execution_count": 80,
   "id": "589685cb",
   "metadata": {},
   "outputs": [
    {
     "data": {
      "text/plain": [
       "{'nome': 'Andreus', 'Curso': 'IA'}"
      ]
     },
     "execution_count": 80,
     "metadata": {},
     "output_type": "execute_result"
    }
   ],
   "source": [
    "lista_dicionarios[1]"
   ]
  },
  {
   "cell_type": "markdown",
   "id": "291a8c17",
   "metadata": {},
   "source": [
    "Alterando valor em uma lista de dicionário"
   ]
  },
  {
   "cell_type": "code",
   "execution_count": 83,
   "id": "ae8a914a",
   "metadata": {},
   "outputs": [],
   "source": [
    "lista_dicionarios[1]['cidade'] = 'BH'"
   ]
  },
  {
   "cell_type": "code",
   "execution_count": 84,
   "id": "d9b4f45e",
   "metadata": {},
   "outputs": [
    {
     "data": {
      "text/plain": [
       "[{'nome': 'Davi', 'Curso': 'IA'},\n",
       " {'nome': 'Andreus', 'Curso': 'IA', 'cidade': 'BH'},\n",
       " {'nome': 'Keli', 'Curso': 'IA'}]"
      ]
     },
     "execution_count": 84,
     "metadata": {},
     "output_type": "execute_result"
    }
   ],
   "source": [
    "lista_dicionarios"
   ]
  },
  {
   "cell_type": "markdown",
   "id": "3e5d9b22",
   "metadata": {},
   "source": [
    "Adiconando uma lista em uma chave de um dicionário"
   ]
  },
  {
   "cell_type": "code",
   "execution_count": 85,
   "id": "3149fb6b",
   "metadata": {},
   "outputs": [],
   "source": [
    "lista_dicionarios[1]['Telefone'] = '11 45745171747'"
   ]
  },
  {
   "cell_type": "code",
   "execution_count": 86,
   "id": "58326e80",
   "metadata": {},
   "outputs": [
    {
     "data": {
      "text/plain": [
       "[{'nome': 'Davi', 'Curso': 'IA'},\n",
       " {'nome': 'Andreus',\n",
       "  'Curso': 'IA',\n",
       "  'cidade': 'BH',\n",
       "  'Telefone': '11 45745171747'},\n",
       " {'nome': 'Keli', 'Curso': 'IA'}]"
      ]
     },
     "execution_count": 86,
     "metadata": {},
     "output_type": "execute_result"
    }
   ],
   "source": [
    "lista_dicionarios"
   ]
  },
  {
   "cell_type": "markdown",
   "id": "ece6707f",
   "metadata": {},
   "source": [
    "***"
   ]
  },
  {
   "cell_type": "markdown",
   "id": "5537ce71",
   "metadata": {},
   "source": [
    "##### Conjuntos \n",
    "Os conjuntos em Python são estruturas de dados que representam coleções de elementos únicos e não ordenados. Eles são úteis para operações que envolvem testes de pertencimento, remoção de duplicatas e operações de conjunto como união, interseção e diferença. Aqui estão algumas características importantes dos conjuntos:\n",
    "\n",
    "- Elementos Únicos: Os conjuntos em Python não contêm elementos duplicados. Se você tentar adicionar um elemento que já está presente no conjunto, ele será ignorado.\n",
    "\n",
    "- Não Ordenados: Os elementos em um conjunto não têm uma ordem específica. Isso significa que você não pode acessar elementos em um conjunto por índices como em listas e tuplas.\n",
    "\n",
    "- Mutabilidade Limitada: Embora os elementos individuais em um conjunto sejam imutáveis (por exemplo, strings e tuplas), você pode adicionar e remover elementos de um conjunto.\n",
    "\n",
    "- Eficiência em Testes de Pertencimento: Os conjuntos são otimizados para testes de pertencimento, o que significa que verificar se um elemento está presente em um conjunto é uma operação muito rápida."
   ]
  },
  {
   "cell_type": "markdown",
   "id": "18fdb9eb",
   "metadata": {},
   "source": [
    "Criação de um Conjunto\n",
    "\n",
    "Para criar um conjunto, você pode usar chaves { } e listar os elementos separados por vírgulas."
   ]
  },
  {
   "cell_type": "code",
   "execution_count": 87,
   "id": "f02cb9c7",
   "metadata": {},
   "outputs": [
    {
     "data": {
      "text/plain": [
       "{1, 2, 4, 5, 7, 9}"
      ]
     },
     "execution_count": 87,
     "metadata": {},
     "output_type": "execute_result"
    }
   ],
   "source": [
    "conjunto = {1,4,7,5,9,2}\n",
    "conjunto"
   ]
  },
  {
   "cell_type": "markdown",
   "id": "38754223",
   "metadata": {},
   "source": [
    "Remoção de Duplicatas de uma Lista\n",
    "\n",
    "Você pode converter uma lista em um conjunto para remover elementos duplicados."
   ]
  },
  {
   "cell_type": "code",
   "execution_count": 88,
   "id": "4c491cab",
   "metadata": {},
   "outputs": [
    {
     "data": {
      "text/plain": [
       "{1, 2, 4, 7, 9, 15}"
      ]
     },
     "execution_count": 88,
     "metadata": {},
     "output_type": "execute_result"
    }
   ],
   "source": [
    "conjunto = {1,4,7,15,9,2,15,1 }\n",
    "conjunto"
   ]
  },
  {
   "cell_type": "code",
   "execution_count": 92,
   "id": "f49f1688",
   "metadata": {},
   "outputs": [
    {
     "data": {
      "text/plain": [
       "{1, 2, 4, 7, 9, 15}"
      ]
     },
     "execution_count": 92,
     "metadata": {},
     "output_type": "execute_result"
    }
   ],
   "source": [
    "lista = [1,4,7,15,9,2,15,1]\n",
    "set(lista)"
   ]
  },
  {
   "cell_type": "markdown",
   "id": "7c1dd89a",
   "metadata": {},
   "source": [
    "Adição de Elementos\n",
    "\n",
    "Você pode adicionar elementos a um conjunto usando o método add()."
   ]
  },
  {
   "cell_type": "code",
   "execution_count": 91,
   "id": "2ac30f44",
   "metadata": {},
   "outputs": [
    {
     "data": {
      "text/plain": [
       "{1, 2, 4, 7, 9, 12, 15}"
      ]
     },
     "execution_count": 91,
     "metadata": {},
     "output_type": "execute_result"
    }
   ],
   "source": [
    "conjunto.add(12)\n",
    "conjunto"
   ]
  },
  {
   "cell_type": "markdown",
   "id": "4116c59c",
   "metadata": {},
   "source": [
    "Remoção de Elementos\n",
    "\n",
    "Você pode remover elementos de um conjunto usando os métodos remove() ou discard()."
   ]
  },
  {
   "cell_type": "code",
   "execution_count": 95,
   "id": "5c5ec672",
   "metadata": {},
   "outputs": [
    {
     "data": {
      "text/plain": [
       "{2, 4, 7, 9, 15}"
      ]
     },
     "execution_count": 95,
     "metadata": {},
     "output_type": "execute_result"
    }
   ],
   "source": [
    "conjunto.remove(12)\n",
    "conjunto"
   ]
  },
  {
   "cell_type": "code",
   "execution_count": 100,
   "id": "425bcd23",
   "metadata": {},
   "outputs": [
    {
     "data": {
      "text/plain": [
       "{2, 4, 7, 9}"
      ]
     },
     "execution_count": 100,
     "metadata": {},
     "output_type": "execute_result"
    }
   ],
   "source": [
    "conjunto.discard(15)\n",
    "conjunto"
   ]
  },
  {
   "cell_type": "markdown",
   "id": "84c11d38",
   "metadata": {},
   "source": [
    "Operações de Conjunto\n",
    "\n",
    "Você pode realizar operações de conjunto como união, interseção e diferença."
   ]
  },
  {
   "cell_type": "code",
   "execution_count": 104,
   "id": "f6ac7bc3",
   "metadata": {},
   "outputs": [
    {
     "name": "stdout",
     "output_type": "stream",
     "text": [
      "{1, 2, 3, 4, 5}\n",
      "{3}\n",
      "{1, 2}\n"
     ]
    }
   ],
   "source": [
    "conjunto1 = {1,2,3}\n",
    "conjunto2 = {3,4,5}\n",
    "\n",
    "print(conjunto1 | conjunto2)\n",
    "\n",
    "print(conjunto1 & conjunto2)\n",
    "\n",
    "print(conjunto1 - conjunto2)\n"
   ]
  },
  {
   "cell_type": "markdown",
   "id": "67c21592",
   "metadata": {},
   "source": [
    "Nota: A diferença entre dois conjuntos, denotada por conjunto1 - conjunto2, retorna um novo conjunto contendo todos os elementos que estão presentes no conjunto1 e não estão presentes no conjunto2. Em outras palavras, são todos os elementos que pertencem ao conjunto1 mas não pertencem ao conjunto2.\n",
    "\n",
    "Nesse caso específico, a diferença será {1, 2}, pois os elementos 1 e 2 estão presentes em conjunto1 e não estão presentes em conjunto2. O elemento 3 não será incluído na diferença, pois ele está presente em ambos os conjuntos.\n",
    "\n",
    "\n",
    "***"
   ]
  },
  {
   "cell_type": "markdown",
   "id": "35c52972",
   "metadata": {},
   "source": [
    "##### Séries\n",
    "Uma série é uma estrutura de dados unidimensional que pode conter qualquer tipo de dados, como números inteiros, números de ponto flutuante, strings, entre outros. Cada elemento em uma série possui um rótulo associado, chamado de índice. A série pode ser vista como uma coluna em uma planilha ou uma matriz com apenas uma linha."
   ]
  },
  {
   "cell_type": "markdown",
   "id": "a6cf7d8a",
   "metadata": {},
   "source": [
    "Exemplo no mundo real: Uma série pode representar as temperaturas registradas diariamente em uma cidade ao longo de um mês, onde cada temperatura está associada a uma data."
   ]
  },
  {
   "cell_type": "code",
   "execution_count": 106,
   "id": "e865131b",
   "metadata": {},
   "outputs": [
    {
     "data": {
      "text/plain": [
       "2024-09-15    25\n",
       "2024-09-16    28\n",
       "2024-09-17    31\n",
       "2024-09-18    22\n",
       "dtype: int64"
      ]
     },
     "execution_count": 106,
     "metadata": {},
     "output_type": "execute_result"
    }
   ],
   "source": [
    "import pandas as pd \n",
    "\n",
    "temperaturas = pd.Series([25, 28, 31, 22], index= ['2024-09-15', '2024-09-16', '2024-09-17', '2024-09-18'])\n",
    "temperaturas"
   ]
  },
  {
   "cell_type": "markdown",
   "id": "39a130ff",
   "metadata": {},
   "source": [
    "##### DataFrames\n",
    "Um DataFrame é uma estrutura de dados bidimensional semelhante a uma tabela de banco de dados ou uma planilha do Excel. Ele é composto por linhas e colunas, onde cada coluna pode ser de um tipo de dado diferente. Os DataFrames são altamente flexíveis e podem ser usados para armazenar e manipular dados heterogêneos.\n",
    "\n",
    "Exemplo no mundo real: Um DataFrame pode representar dados de vendas de uma empresa, onde cada linha corresponde a uma transação e as colunas representam informações como o ID do cliente, o produto vendido, a quantidade vendida e o valor da venda."
   ]
  },
  {
   "cell_type": "code",
   "execution_count": 107,
   "id": "0c58cd5f",
   "metadata": {},
   "outputs": [],
   "source": [
    "dados = {\n",
    "    'cod_cliente': [1,2,3,4,5],\n",
    "    'nome_cliente': ['Leandro', 'Priscila', 'Leo', 'Luiz', 'Keli'],\n",
    "    'localidade': ['BH', 'Uberlandia', 'São Paulo', 'BH', 'Rio Grande do Sul']\n",
    "}\n",
    "\n",
    "df_clientes = pd.DataFrame(dados)"
   ]
  },
  {
   "cell_type": "code",
   "execution_count": 108,
   "id": "83fd93e5",
   "metadata": {},
   "outputs": [
    {
     "data": {
      "text/html": [
       "<div>\n",
       "<style scoped>\n",
       "    .dataframe tbody tr th:only-of-type {\n",
       "        vertical-align: middle;\n",
       "    }\n",
       "\n",
       "    .dataframe tbody tr th {\n",
       "        vertical-align: top;\n",
       "    }\n",
       "\n",
       "    .dataframe thead th {\n",
       "        text-align: right;\n",
       "    }\n",
       "</style>\n",
       "<table border=\"1\" class=\"dataframe\">\n",
       "  <thead>\n",
       "    <tr style=\"text-align: right;\">\n",
       "      <th></th>\n",
       "      <th>cod_cliente</th>\n",
       "      <th>nome_cliente</th>\n",
       "      <th>localidade</th>\n",
       "    </tr>\n",
       "  </thead>\n",
       "  <tbody>\n",
       "    <tr>\n",
       "      <th>0</th>\n",
       "      <td>1</td>\n",
       "      <td>Leandro</td>\n",
       "      <td>BH</td>\n",
       "    </tr>\n",
       "    <tr>\n",
       "      <th>1</th>\n",
       "      <td>2</td>\n",
       "      <td>Priscila</td>\n",
       "      <td>Uberlandia</td>\n",
       "    </tr>\n",
       "    <tr>\n",
       "      <th>2</th>\n",
       "      <td>3</td>\n",
       "      <td>Leo</td>\n",
       "      <td>São Paulo</td>\n",
       "    </tr>\n",
       "    <tr>\n",
       "      <th>3</th>\n",
       "      <td>4</td>\n",
       "      <td>Luiz</td>\n",
       "      <td>BH</td>\n",
       "    </tr>\n",
       "    <tr>\n",
       "      <th>4</th>\n",
       "      <td>5</td>\n",
       "      <td>Keli</td>\n",
       "      <td>Rio Grande do Sul</td>\n",
       "    </tr>\n",
       "  </tbody>\n",
       "</table>\n",
       "</div>"
      ],
      "text/plain": [
       "   cod_cliente nome_cliente         localidade\n",
       "0            1      Leandro                 BH\n",
       "1            2     Priscila         Uberlandia\n",
       "2            3          Leo          São Paulo\n",
       "3            4         Luiz                 BH\n",
       "4            5         Keli  Rio Grande do Sul"
      ]
     },
     "execution_count": 108,
     "metadata": {},
     "output_type": "execute_result"
    }
   ],
   "source": [
    "df_clientes"
   ]
  }
 ],
 "metadata": {
  "kernelspec": {
   "display_name": "avaliacao",
   "language": "python",
   "name": "python3"
  },
  "language_info": {
   "codemirror_mode": {
    "name": "ipython",
    "version": 3
   },
   "file_extension": ".py",
   "mimetype": "text/x-python",
   "name": "python",
   "nbconvert_exporter": "python",
   "pygments_lexer": "ipython3",
   "version": "3.10.0"
  }
 },
 "nbformat": 4,
 "nbformat_minor": 5
}
