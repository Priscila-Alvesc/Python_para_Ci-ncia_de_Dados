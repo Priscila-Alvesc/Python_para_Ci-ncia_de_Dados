{
 "cells": [
  {
   "cell_type": "markdown",
   "id": "592f918a",
   "metadata": {},
   "source": [
    "# Fundamentos em Python\n",
    "****\n",
    "\n",
    "Essa aula tem objetivo de apresentar os principais fundamentos da linguagem python e suas aplicações no dia a dia. "
   ]
  },
  {
   "cell_type": "markdown",
   "id": "7eb794f2",
   "metadata": {},
   "source": [
    "### Aplicações \n",
    "- Desenvolvimento web: Python é muito utilizado no desenvolvimento de aplicações web, através de frameworks como Django e Flask.\n",
    "- Ciência de dados: Python é uma das linguagens mais utilizadas na área de ciência de dados, graças às bibliotecas Numpy, Pandas, Scikit-learn e outras, que permitem a análise e visualização de dados de forma eficiente e intuitiva.\n",
    "- Automação de tarefas: Python também é muito utilizado para automação de tarefas, desde scripts simples para renomear arquivos até sistemas de automação de processos empresariais.\n",
    "- Desenvolvimento de jogos: Python é uma linguagem bastante utilizada no desenvolvimento de jogos, principalmente através da biblioteca Pygame.\n"
   ]
  },
  {
   "cell_type": "markdown",
   "id": "316736c2",
   "metadata": {},
   "source": [
    "#### Conhecendo os Tipos de Dados \n",
    "Python é uma linguagem de programação dinamicamente tipada, o que significa que o tipo de dados é inferido a partir do valor atribuído a ele. Existem vários tipos de dados em Python, cada um com suas próprias características e métodos. Nesta resposta, vamos apresentar cada um desses tipos de dados e dar um exemplo prático de como utilizá-los.\n"
   ]
  },
  {
   "cell_type": "markdown",
   "id": "b97f5e31",
   "metadata": {},
   "source": [
    "##### String (str)\n",
    "\n",
    "O tipo de dados de string é uma sequência de caracteres que representa um texto. Ela é uma das principais estruturas de dados da linguagem, sendo amplamente utilizada em diversos contextos, como manipulação de arquivos, comunicação com banco de dados e processamento de texto.\n",
    "\n",
    "Para criar uma string em Python, basta envolver o texto entre aspas simples ou duplas. Por exemplo:"
   ]
  },
  {
   "cell_type": "code",
   "execution_count": 3,
   "id": "2b8f766c",
   "metadata": {},
   "outputs": [
    {
     "name": "stdout",
     "output_type": "stream",
     "text": [
      "Aula de python\n"
     ]
    }
   ],
   "source": [
    "texto = 'Aula de python'\n",
    "print(texto)"
   ]
  },
  {
   "cell_type": "code",
   "execution_count": 4,
   "id": "ca106c8b",
   "metadata": {},
   "outputs": [
    {
     "data": {
      "text/plain": [
       "'Aula de python'"
      ]
     },
     "execution_count": 4,
     "metadata": {},
     "output_type": "execute_result"
    }
   ],
   "source": [
    "texto"
   ]
  },
  {
   "cell_type": "markdown",
   "id": "395ee33b",
   "metadata": {},
   "source": [
    "Além disso, é possível usar aspas triplas para criar strings com múltiplas linhas. Por exemplo:"
   ]
  },
  {
   "cell_type": "code",
   "execution_count": 5,
   "id": "de17f207",
   "metadata": {},
   "outputs": [
    {
     "name": "stdout",
     "output_type": "stream",
     "text": [
      "Aula de \n",
      "python \n",
      "com professor Leandro Lessa\n"
     ]
    }
   ],
   "source": [
    "multilinhas = '''Aula de \n",
    "python \n",
    "com professor Leandro Lessa'''\n",
    "\n",
    "print(multilinhas)"
   ]
  },
  {
   "cell_type": "code",
   "execution_count": 6,
   "id": "78d7fc8e",
   "metadata": {},
   "outputs": [
    {
     "name": "stdout",
     "output_type": "stream",
     "text": [
      "\n",
      "select *\n",
      "from tb_produto\n",
      "where id in (1, 2, 3)\n"
     ]
    }
   ],
   "source": [
    "query = '''\n",
    "select *\n",
    "from tb_alunos\n",
    "where nota > 7'''\n",
    "\n",
    "\n",
    "print(query)\n"
   ]
  },
  {
   "cell_type": "code",
   "execution_count": 11,
   "id": "2fb21227",
   "metadata": {},
   "outputs": [
    {
     "name": "stdout",
     "output_type": "stream",
     "text": [
      "\n",
      "select *\n",
      "from  tb_professor \n",
      "where nota > 7\n"
     ]
    }
   ],
   "source": [
    "tabela = 'tb_professor'\n",
    "\n",
    "query = f'''\n",
    "select *\n",
    "from  {tabela} \n",
    "where nota > 7'''\n",
    "\n",
    "\n",
    "print(query)"
   ]
  },
  {
   "cell_type": "markdown",
   "id": "4d7ac7e9",
   "metadata": {},
   "source": [
    "As strings em Python são imutáveis, o que significa que não é possível alterar um caractere específico de uma string. No entanto, é possível criar uma nova string a partir de uma existente, utilizando métodos de manipulação de strings, como o replace() e o split()."
   ]
  },
  {
   "cell_type": "code",
   "execution_count": 15,
   "id": "9aa47587",
   "metadata": {},
   "outputs": [
    {
     "name": "stdout",
     "output_type": "stream",
     "text": [
      "\n",
      "select *\n",
      "from  tb_aluno \n",
      "where nota > 7\n"
     ]
    }
   ],
   "source": [
    "query_alterada = query.replace('tb_professor', 'tb_aluno')\n",
    "print(query_alterada)"
   ]
  },
  {
   "cell_type": "code",
   "execution_count": 16,
   "id": "1e70f298",
   "metadata": {},
   "outputs": [
    {
     "name": "stdout",
     "output_type": "stream",
     "text": [
      "\n",
      "select *\n",
      "from  tb_professor \n",
      "where nota > 7\n"
     ]
    }
   ],
   "source": [
    "print(query)"
   ]
  },
  {
   "cell_type": "markdown",
   "id": "14a12004",
   "metadata": {},
   "source": [
    "Algumas operações comuns que podem ser realizadas com strings incluem concatenação (união de duas ou mais strings), indexação (acesso a um caractere específico da string) e fatiamento (obtenção de uma sub-string a partir da string original)."
   ]
  },
  {
   "cell_type": "code",
   "execution_count": 19,
   "id": "3a0d9a8b",
   "metadata": {},
   "outputs": [],
   "source": [
    "texto1 =  'olá seja bem vindo'\n",
    "texto2 = 'primeira aula de python'\n",
    "\n",
    "texto3 = texto1 + ' ' +  texto2"
   ]
  },
  {
   "cell_type": "code",
   "execution_count": 22,
   "id": "3f0783fe",
   "metadata": {},
   "outputs": [
    {
     "data": {
      "text/plain": [
       "'olá seja bem vindo primeira aula de python'"
      ]
     },
     "execution_count": 22,
     "metadata": {},
     "output_type": "execute_result"
    }
   ],
   "source": [
    "texto3.lower()"
   ]
  },
  {
   "cell_type": "markdown",
   "id": "d42504ab",
   "metadata": {},
   "source": [
    "##### Inteiro (int)\n",
    "O tipo de dados inteiro (int) representa números inteiros positivos ou negativos. Inteiros podem ser criados simplesmente digitando um número inteiro diretamente no código Python ou podem ser o resultado de operações matemáticas."
   ]
  },
  {
   "cell_type": "code",
   "execution_count": 25,
   "id": "500f2e1d",
   "metadata": {},
   "outputs": [],
   "source": [
    "a = 10\n",
    "b = 5\n",
    "\n",
    "c = a + b"
   ]
  },
  {
   "cell_type": "code",
   "execution_count": 26,
   "id": "02378a70",
   "metadata": {},
   "outputs": [
    {
     "name": "stdout",
     "output_type": "stream",
     "text": [
      "15\n"
     ]
    }
   ],
   "source": [
    "print(c)"
   ]
  },
  {
   "cell_type": "markdown",
   "id": "9ef630a8",
   "metadata": {},
   "source": [
    "##### Operações"
   ]
  },
  {
   "cell_type": "code",
   "execution_count": 29,
   "id": "5bdc037b",
   "metadata": {},
   "outputs": [
    {
     "name": "stdout",
     "output_type": "stream",
     "text": [
      "\n",
      "O resultados das operacões sao:\n",
      "soma: 15, \n",
      "divisao: 2.0\n",
      "      \n"
     ]
    }
   ],
   "source": [
    "soma = a + b\n",
    "divisao = a / b\n",
    "multiplicacao = a * b\n",
    "subtracao = a - b\n",
    "\n",
    "print(f'''\n",
    "O resultados das operacões sao:\n",
    "soma: {soma}, \n",
    "divisao: {divisao}\n",
    "      ''')"
   ]
  },
  {
   "cell_type": "markdown",
   "id": "1fa0b832",
   "metadata": {},
   "source": [
    "##### Ponto Flutuante ou Decimal (float)\n",
    "O tipo de dados float representa números com casas decimais. Assim como os inteiros, os floats podem ser criados diretamente no código ou como resultado de operações matemáticas."
   ]
  },
  {
   "cell_type": "code",
   "execution_count": 33,
   "id": "24e1bd52",
   "metadata": {},
   "outputs": [
    {
     "name": "stdout",
     "output_type": "stream",
     "text": [
      "\n",
      "O resultados das operacões sao:\n",
      "soma: 13.8, \n",
      "divisao: 3.6\n",
      "      \n"
     ]
    }
   ],
   "source": [
    "a = 10.8\n",
    "b = 3\n",
    "\n",
    "soma = a + b\n",
    "divisao = a / b\n",
    "multiplicacao = a * b\n",
    "subtracao = a - b\n",
    "\n",
    "print(f'''\n",
    "O resultados das operacões sao:\n",
    "soma: {soma}, \n",
    "divisao: {divisao}\n",
    "      ''')"
   ]
  },
  {
   "cell_type": "markdown",
   "id": "8ae3f6fb",
   "metadata": {},
   "source": [
    "##### Conversão de Tipos de Dados\n",
    "É possível realizar conversão de tipos de dados de acordo com a necessidade do contexto."
   ]
  },
  {
   "cell_type": "code",
   "execution_count": 43,
   "id": "66a85d87",
   "metadata": {},
   "outputs": [
    {
     "ename": "ValueError",
     "evalue": "could not convert string to float: 'maça'",
     "output_type": "error",
     "traceback": [
      "\u001b[1;31m---------------------------------------------------------------------------\u001b[0m",
      "\u001b[1;31mValueError\u001b[0m                                Traceback (most recent call last)",
      "Cell \u001b[1;32mIn[43], line 1\u001b[0m\n\u001b[1;32m----> 1\u001b[0m \u001b[38;5;28;43mfloat\u001b[39;49m\u001b[43m(\u001b[49m\u001b[38;5;124;43m'\u001b[39;49m\u001b[38;5;124;43mmaça\u001b[39;49m\u001b[38;5;124;43m'\u001b[39;49m\u001b[43m)\u001b[49m\n",
      "\u001b[1;31mValueError\u001b[0m: could not convert string to float: 'maça'"
     ]
    }
   ],
   "source": [
    "float('maça')"
   ]
  },
  {
   "cell_type": "markdown",
   "id": "6dcc6cf2",
   "metadata": {},
   "source": [
    "##### Boolean (bool)\n",
    "O tipo de dados boolean é utilizado para representar valores lógicos verdadeiro (True) ou falso (False). Booleans são frequentemente utilizados em estruturas de controle, como if e while."
   ]
  },
  {
   "cell_type": "code",
   "execution_count": 45,
   "id": "e40096de",
   "metadata": {},
   "outputs": [
    {
     "name": "stdout",
     "output_type": "stream",
     "text": [
      "Acesso negado\n"
     ]
    }
   ],
   "source": [
    "tem_permissao = False\n",
    "if tem_permissao:\n",
    "    print('Acesso liberado')\n",
    "else:\n",
    "    print('Acesso negado')\n"
   ]
  },
  {
   "cell_type": "markdown",
   "id": "48c244ad",
   "metadata": {},
   "source": [
    "Exemplo:"
   ]
  },
  {
   "cell_type": "code",
   "execution_count": 2,
   "id": "e3eb5ea8",
   "metadata": {},
   "outputs": [
    {
     "name": "stdout",
     "output_type": "stream",
     "text": [
      "Não acertou! \n",
      "Não acertou! \n",
      "Parabéns\n"
     ]
    }
   ],
   "source": [
    "numero_sorte = 7\n",
    "\n",
    "numero = input('Digite um numero de 1 a 10: ')\n",
    "\n",
    "while True:\n",
    "    if int(numero) == numero_sorte:\n",
    "        print('Parabéns')\n",
    "        break\n",
    "    else:\n",
    "        print('Não acertou! ')\n",
    "        numero = int(input('Digite um numero de 1 a 10: '))"
   ]
  },
  {
   "cell_type": "code",
   "execution_count": 50,
   "id": "6394fc00",
   "metadata": {},
   "outputs": [
    {
     "data": {
      "text/plain": [
       "100"
      ]
     },
     "execution_count": 50,
     "metadata": {},
     "output_type": "execute_result"
    }
   ],
   "source": [
    "numero"
   ]
  }
 ],
 "metadata": {
  "kernelspec": {
   "display_name": "avaliacao",
   "language": "python",
   "name": "python3"
  },
  "language_info": {
   "codemirror_mode": {
    "name": "ipython",
    "version": 3
   },
   "file_extension": ".py",
   "mimetype": "text/x-python",
   "name": "python",
   "nbconvert_exporter": "python",
   "pygments_lexer": "ipython3",
   "version": "3.11.0"
  }
 },
 "nbformat": 4,
 "nbformat_minor": 5
}
