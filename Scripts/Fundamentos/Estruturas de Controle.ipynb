{
 "cells": [
  {
   "cell_type": "markdown",
   "id": "592f918a",
   "metadata": {},
   "source": [
    "# Estruturas de controle\n",
    "****\n",
    "\n",
    "As estruturas de controle são essenciais em programação para controlar o fluxo de execução do código. Duas das estruturas mais fundamentais são as estruturas condicionais e de repetição."
   ]
  },
  {
   "cell_type": "markdown",
   "id": "7eb794f2",
   "metadata": {},
   "source": [
    "### Estruturas Condicionais\n",
    "As estruturas condicionais permitem que um programa tome decisões com base em condições específicas. Em Python, a estrutura condicional básica é o if, que pode ser estendido com elif e else para lidar com múltiplas condições."
   ]
  },
  {
   "cell_type": "markdown",
   "id": "9ac8dd15",
   "metadata": {},
   "source": [
    "Exemplo 1: Verificação de Idade para Entrada em um Bar"
   ]
  },
  {
   "cell_type": "code",
   "execution_count": 3,
   "id": "e970def1",
   "metadata": {},
   "outputs": [
    {
     "name": "stdout",
     "output_type": "stream",
     "text": [
      "Pode entrar no bar\n"
     ]
    }
   ],
   "source": [
    "idade = 20\n",
    "if idade >= 20:\n",
    "    print('Pode entrar no bar')\n",
    "else:\n",
    "    print('Não simples')"
   ]
  },
  {
   "cell_type": "markdown",
   "id": "8c828ce2",
   "metadata": {},
   "source": [
    "Exemplo 2: Classificação de Números"
   ]
  },
  {
   "cell_type": "code",
   "execution_count": 5,
   "id": "dd9ad2db",
   "metadata": {},
   "outputs": [
    {
     "name": "stdout",
     "output_type": "stream",
     "text": [
      "Negativo\n"
     ]
    }
   ],
   "source": [
    "numero = - 15\n",
    "\n",
    "if numero > 0:\n",
    "    print('Positivo')\n",
    "elif numero < 0:\n",
    "    print('Negativo')\n",
    "else:\n",
    "    print('O número é zero')"
   ]
  },
  {
   "cell_type": "markdown",
   "id": "acec2ede",
   "metadata": {},
   "source": [
    "### Estruturas de Repetição\n",
    "As estruturas de repetição permitem que um conjunto de instruções seja executado repetidamente enquanto uma condição é verdadeira. Em Python, temos os loops for e while."
   ]
  },
  {
   "cell_type": "markdown",
   "id": "2528a127",
   "metadata": {},
   "source": [
    "Exemplo 1: Impressão de Números Pares com Loop For"
   ]
  },
  {
   "cell_type": "code",
   "execution_count": 7,
   "id": "c5e4b5bb",
   "metadata": {},
   "outputs": [
    {
     "name": "stdout",
     "output_type": "stream",
     "text": [
      "0\n",
      "2\n",
      "4\n",
      "6\n",
      "8\n",
      "10\n"
     ]
    }
   ],
   "source": [
    "for numero in range(0, 11, 2):\n",
    "    print(numero)"
   ]
  },
  {
   "cell_type": "markdown",
   "id": "141dfc44",
   "metadata": {},
   "source": [
    "Exemplo 2: Impressão de tarefas em uma lista"
   ]
  },
  {
   "cell_type": "code",
   "execution_count": 8,
   "id": "6162ba68",
   "metadata": {},
   "outputs": [
    {
     "name": "stdout",
     "output_type": "stream",
     "text": [
      "Realizar Trabalho Pratico\n",
      "Correr\n",
      "Estudar\n",
      "almocar\n"
     ]
    }
   ],
   "source": [
    "lista_tarefas = ['Realizar Trabalho Pratico', 'Correr', 'Estudar', 'almocar']\n",
    "\n",
    "for atividade in lista_tarefas:\n",
    "    print(atividade)"
   ]
  },
  {
   "cell_type": "markdown",
   "id": "b32d481d",
   "metadata": {},
   "source": [
    "Exemplo 3: Impressão de tarefas em uma lista com indice"
   ]
  },
  {
   "cell_type": "code",
   "execution_count": 11,
   "id": "11a9160a",
   "metadata": {},
   "outputs": [
    {
     "name": "stdout",
     "output_type": "stream",
     "text": [
      "1 Realizar Trabalho Pratico\n",
      "2 Correr\n",
      "3 Estudar\n",
      "4 almocar\n"
     ]
    }
   ],
   "source": [
    "\n",
    "for index, atividade in enumerate(lista_tarefas, start=1):\n",
    "    print(index, atividade)"
   ]
  },
  {
   "cell_type": "markdown",
   "id": "c109d5ac",
   "metadata": {},
   "source": [
    "Exemplo 4: Impressão de dados em dicionário"
   ]
  },
  {
   "cell_type": "code",
   "execution_count": 18,
   "id": "ceb11fd4",
   "metadata": {},
   "outputs": [
    {
     "name": "stdout",
     "output_type": "stream",
     "text": [
      "nome Leandro\n",
      "idade 18\n",
      "cidade BH\n",
      "telefone (31, '87471-1471')\n"
     ]
    }
   ],
   "source": [
    "pessoa = {'nome': 'Leandro',\n",
    " 'idade': 18,\n",
    " 'cidade': 'BH',\n",
    " 'telefone': (31, '87471-1471')}\n",
    "\n",
    "for chave, valor in pessoa.items():\n",
    "    print(chave, valor)"
   ]
  },
  {
   "cell_type": "code",
   "execution_count": 19,
   "id": "946f5b4a",
   "metadata": {},
   "outputs": [
    {
     "data": {
      "text/plain": [
       "dict_items([('nome', 'Leandro'), ('idade', 18), ('cidade', 'BH'), ('telefone', (31, '87471-1471'))])"
      ]
     },
     "execution_count": 19,
     "metadata": {},
     "output_type": "execute_result"
    }
   ],
   "source": [
    "pessoa.items()"
   ]
  },
  {
   "cell_type": "markdown",
   "id": "bc649db7",
   "metadata": {},
   "source": [
    "Exemplo 5: Impressão de dados em uma lista de dicionários"
   ]
  },
  {
   "cell_type": "code",
   "execution_count": 14,
   "id": "2a0239ba",
   "metadata": {},
   "outputs": [
    {
     "name": "stdout",
     "output_type": "stream",
     "text": [
      "0 nome\n",
      "1 idade\n",
      "2 cidade\n",
      "3 telefone\n"
     ]
    }
   ],
   "source": [
    "for indice, pessoa in enumerate(pessoa):\n",
    "    print(indice, pessoa)"
   ]
  },
  {
   "cell_type": "markdown",
   "id": "e3130e7a",
   "metadata": {},
   "source": [
    "Exemplo 6: Soma dos Números de 1 a 10 com Loop While:"
   ]
  },
  {
   "cell_type": "code",
   "execution_count": 16,
   "id": "2a5851f7",
   "metadata": {},
   "outputs": [
    {
     "name": "stdout",
     "output_type": "stream",
     "text": [
      "1275\n"
     ]
    }
   ],
   "source": [
    "soma = 0\n",
    "contador = 1\n",
    "\n",
    "while contador<=50:\n",
    "    soma +=contador\n",
    "    contador+=1\n",
    "\n",
    "print(soma)"
   ]
  },
  {
   "cell_type": "markdown",
   "id": "fb682bc9",
   "metadata": {},
   "source": [
    "Exemplo 7: Busca em uma Lista com Loop For:"
   ]
  },
  {
   "cell_type": "code",
   "execution_count": 24,
   "metadata": {},
   "outputs": [
    {
     "name": "stdout",
     "output_type": "stream",
     "text": [
      "Nome está na lista\n"
     ]
    }
   ],
   "source": [
    "lista_nomes = ['Davi', 'Luiz', 'Leandro']\n",
    "\n",
    "busca_nome = 'leAnDrO'\n",
    "encontrado = False\n",
    "\n",
    "for nome in lista_nomes:\n",
    "    if nome.upper() == busca_nome.upper():\n",
    "        print('Nome está na lista')\n",
    "        encontrado = True\n",
    "        break\n",
    "if not encontrado:\n",
    "    print(' Não encontrei o nome')\n"
   ]
  },
  {
   "cell_type": "code",
   "execution_count": 27,
   "id": "04dd4487",
   "metadata": {},
   "outputs": [],
   "source": [
    "estado_1 = 'rio de janeiro'\n",
    "estado_2 = 'RIO DE JANEIRO'"
   ]
  },
  {
   "cell_type": "code",
   "execution_count": 29,
   "id": "685df5ee",
   "metadata": {},
   "outputs": [
    {
     "data": {
      "text/plain": [
       "True"
      ]
     },
     "execution_count": 29,
     "metadata": {},
     "output_type": "execute_result"
    }
   ],
   "source": [
    "estado_1.title() ==  estado_2.title()"
   ]
  },
  {
   "cell_type": "code",
   "execution_count": 30,
   "id": "ead14438",
   "metadata": {},
   "outputs": [
    {
     "data": {
      "text/plain": [
       "'Rio De Janeiro'"
      ]
     },
     "execution_count": 30,
     "metadata": {},
     "output_type": "execute_result"
    }
   ],
   "source": [
    "estado_1.title()"
   ]
  },
  {
   "cell_type": "code",
   "execution_count": 26,
   "id": "d34ba95f",
   "metadata": {},
   "outputs": [
    {
     "data": {
      "text/plain": [
       "'LEANDRO'"
      ]
     },
     "execution_count": 26,
     "metadata": {},
     "output_type": "execute_result"
    }
   ],
   "source": [
    "busca_nome.upper()"
   ]
  },
  {
   "cell_type": "markdown",
   "id": "4db8b719",
   "metadata": {},
   "source": [
    "Exemplo 8: Compreensão de Listas (List Comprehension)\n",
    "\n",
    "A compreensão de listas é uma maneira concisa de criar listas em Python, geralmente usando loops for. Ela permite criar listas de forma mais eficiente e legível."
   ]
  },
  {
   "cell_type": "code",
   "execution_count": 32,
   "id": "3e956543",
   "metadata": {},
   "outputs": [],
   "source": [
    "lista_pares = []\n",
    "lista_impares = []\n",
    "\n",
    "for numero in range(10):\n",
    "    if numero % 2 ==0:\n",
    "        lista_pares.append(numero)\n",
    "    else:\n",
    "        lista_impares.append(numero)\n",
    "\n"
   ]
  },
  {
   "cell_type": "code",
   "execution_count": 34,
   "id": "c4c5b12b",
   "metadata": {},
   "outputs": [
    {
     "data": {
      "text/plain": [
       "[1, 3, 5, 7, 9]"
      ]
     },
     "execution_count": 34,
     "metadata": {},
     "output_type": "execute_result"
    }
   ],
   "source": [
    "lista_impares"
   ]
  },
  {
   "cell_type": "code",
   "execution_count": 35,
   "id": "c08a03ff",
   "metadata": {},
   "outputs": [
    {
     "data": {
      "text/plain": [
       "[0, 2, 4, 6, 8]"
      ]
     },
     "execution_count": 35,
     "metadata": {},
     "output_type": "execute_result"
    }
   ],
   "source": [
    "lista_pares2 = [numero for numero in range(10) if numero %2 ==0]\n",
    "lista_pares2"
   ]
  },
  {
   "cell_type": "markdown",
   "id": "4593d55c",
   "metadata": {},
   "source": [
    "### Controle de exceção try-except\n",
    "Ele é usado para lidar com exceções (erros) que podem ocorrer durante a execução do código. A estrutura try-except permite que você controle o fluxo do programa, capturando exceções específicas e tratando-as de maneira apropriada, evitando interrupções inesperadas na execução do código."
   ]
  },
  {
   "cell_type": "markdown",
   "id": "b0dd314d",
   "metadata": {},
   "source": [
    "Exemplo 1: Divisão por zero"
   ]
  },
  {
   "cell_type": "code",
   "execution_count": 39,
   "id": "7dcb1b13",
   "metadata": {},
   "outputs": [
    {
     "name": "stdout",
     "output_type": "stream",
     "text": [
      "Não é possível\n"
     ]
    }
   ],
   "source": [
    "try:\n",
    "    resultado = 10/0\n",
    "except ZeroDivisionError:\n",
    "    print('Não é possível')\n",
    "    "
   ]
  },
  {
   "cell_type": "markdown",
   "id": "7ec20769",
   "metadata": {},
   "source": [
    "Exemplo 2: Soma de tipos de dados diferentes"
   ]
  },
  {
   "cell_type": "code",
   "execution_count": 2,
   "id": "6f0a5153",
   "metadata": {},
   "outputs": [
    {
     "name": "stdout",
     "output_type": "stream",
     "text": [
      "unsupported operand type(s) for +: 'int' and 'str'\n",
      "20\n"
     ]
    }
   ],
   "source": [
    "try:\n",
    "    10 + 'texto'\n",
    "except Exception as e:\n",
    "    print(e)\n",
    "    print(10 + 10 )"
   ]
  }
 ],
 "metadata": {
  "kernelspec": {
   "display_name": "Python 3",
   "language": "python",
   "name": "python3"
  },
  "language_info": {
   "codemirror_mode": {
    "name": "ipython",
    "version": 3
   },
   "file_extension": ".py",
   "mimetype": "text/x-python",
   "name": "python",
   "nbconvert_exporter": "python",
   "pygments_lexer": "ipython3",
   "version": "3.10.0"
  }
 },
 "nbformat": 4,
 "nbformat_minor": 5
}
