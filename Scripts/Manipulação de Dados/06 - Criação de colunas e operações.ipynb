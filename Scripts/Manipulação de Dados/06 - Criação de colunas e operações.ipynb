{
 "cells": [
  {
   "cell_type": "markdown",
   "id": "f3f2076e",
   "metadata": {},
   "source": [
    "# Criação de colunas e operações\n",
    "***\n",
    "\n",
    "A criação de colunas e a realização de operações são tarefas essenciais na manipulação e transformação de dados no Pandas. Nesse contexto, o Pandas oferece algumas ferramentas úteis, como os métodos assign, transform e apply, que permitem adicionar novas colunas aos DataFrames e aplicar operações em linhas ou colunas existentes.\n"
   ]
  },
  {
   "cell_type": "markdown",
   "id": "6072fe86",
   "metadata": {},
   "source": [
    "#### Importação das Bibliotecas\n"
   ]
  },
  {
   "cell_type": "code",
   "execution_count": 63,
   "id": "f42670ce",
   "metadata": {},
   "outputs": [],
   "source": [
    "import pandas as pd\n",
    "import io"
   ]
  },
  {
   "cell_type": "markdown",
   "id": "1ac9030e",
   "metadata": {},
   "source": [
    "#### Coletando Dados de Vendas\n",
    "***"
   ]
  },
  {
   "cell_type": "code",
   "execution_count": 64,
   "id": "5c39a296",
   "metadata": {},
   "outputs": [
    {
     "data": {
      "text/html": [
       "<div>\n",
       "<style scoped>\n",
       "    .dataframe tbody tr th:only-of-type {\n",
       "        vertical-align: middle;\n",
       "    }\n",
       "\n",
       "    .dataframe tbody tr th {\n",
       "        vertical-align: top;\n",
       "    }\n",
       "\n",
       "    .dataframe thead th {\n",
       "        text-align: right;\n",
       "    }\n",
       "</style>\n",
       "<table border=\"1\" class=\"dataframe\">\n",
       "  <thead>\n",
       "    <tr style=\"text-align: right;\">\n",
       "      <th></th>\n",
       "      <th>Nome do vendedor</th>\n",
       "      <th>Produto vendido</th>\n",
       "      <th>Quantidade unitária</th>\n",
       "      <th>Valor do produto</th>\n",
       "      <th>Valor da venda</th>\n",
       "      <th>Data da compra</th>\n",
       "      <th>Localização</th>\n",
       "    </tr>\n",
       "  </thead>\n",
       "  <tbody>\n",
       "    <tr>\n",
       "      <th>0</th>\n",
       "      <td>Joaquim Souza</td>\n",
       "      <td>Produto B</td>\n",
       "      <td>9</td>\n",
       "      <td>33.32</td>\n",
       "      <td>299.88</td>\n",
       "      <td>12/01/2023</td>\n",
       "      <td>PI</td>\n",
       "    </tr>\n",
       "    <tr>\n",
       "      <th>1</th>\n",
       "      <td>Lorenzo da Luz</td>\n",
       "      <td>Produto B</td>\n",
       "      <td>10</td>\n",
       "      <td>94.38</td>\n",
       "      <td>943.80</td>\n",
       "      <td>24/03/2023</td>\n",
       "      <td>DF</td>\n",
       "    </tr>\n",
       "    <tr>\n",
       "      <th>2</th>\n",
       "      <td>Gustavo Henrique Moreira</td>\n",
       "      <td>Produto E</td>\n",
       "      <td>9</td>\n",
       "      <td>84.45</td>\n",
       "      <td>760.05</td>\n",
       "      <td>11/06/2022</td>\n",
       "      <td>PE</td>\n",
       "    </tr>\n",
       "    <tr>\n",
       "      <th>3</th>\n",
       "      <td>Lorena da Costa</td>\n",
       "      <td>Produto C</td>\n",
       "      <td>5</td>\n",
       "      <td>34.14</td>\n",
       "      <td>170.70</td>\n",
       "      <td>24/12/2022</td>\n",
       "      <td>RO</td>\n",
       "    </tr>\n",
       "    <tr>\n",
       "      <th>4</th>\n",
       "      <td>Caio Monteiro</td>\n",
       "      <td>Produto C</td>\n",
       "      <td>2</td>\n",
       "      <td>94.42</td>\n",
       "      <td>188.84</td>\n",
       "      <td>27/05/2022</td>\n",
       "      <td>MG</td>\n",
       "    </tr>\n",
       "  </tbody>\n",
       "</table>\n",
       "</div>"
      ],
      "text/plain": [
       "           Nome do vendedor Produto vendido  Quantidade unitária  \\\n",
       "0             Joaquim Souza       Produto B                    9   \n",
       "1            Lorenzo da Luz       Produto B                   10   \n",
       "2  Gustavo Henrique Moreira       Produto E                    9   \n",
       "3           Lorena da Costa       Produto C                    5   \n",
       "4             Caio Monteiro       Produto C                    2   \n",
       "\n",
       "   Valor do produto  Valor da venda Data da compra Localização  \n",
       "0             33.32          299.88     12/01/2023          PI  \n",
       "1             94.38          943.80     24/03/2023          DF  \n",
       "2             84.45          760.05     11/06/2022          PE  \n",
       "3             34.14          170.70     24/12/2022          RO  \n",
       "4             94.42          188.84     27/05/2022          MG  "
      ]
     },
     "execution_count": 64,
     "metadata": {},
     "output_type": "execute_result"
    }
   ],
   "source": [
    "#Lendo a base de dados\n",
    "\n",
    "df = pd.read_csv('./datasets/dados_vendas_produtos.csv' , sep=';', encoding='latin1')\n",
    "df.head()"
   ]
  },
  {
   "cell_type": "markdown",
   "id": "3e344819",
   "metadata": {},
   "source": [
    "#### Criando Nova Feature\n",
    "***"
   ]
  },
  {
   "cell_type": "code",
   "execution_count": 65,
   "id": "6c343cb5",
   "metadata": {},
   "outputs": [
    {
     "data": {
      "text/html": [
       "<div>\n",
       "<style scoped>\n",
       "    .dataframe tbody tr th:only-of-type {\n",
       "        vertical-align: middle;\n",
       "    }\n",
       "\n",
       "    .dataframe tbody tr th {\n",
       "        vertical-align: top;\n",
       "    }\n",
       "\n",
       "    .dataframe thead th {\n",
       "        text-align: right;\n",
       "    }\n",
       "</style>\n",
       "<table border=\"1\" class=\"dataframe\">\n",
       "  <thead>\n",
       "    <tr style=\"text-align: right;\">\n",
       "      <th></th>\n",
       "      <th>Nome do vendedor</th>\n",
       "      <th>Produto vendido</th>\n",
       "      <th>Quantidade unitária</th>\n",
       "      <th>Valor do produto</th>\n",
       "      <th>Valor da venda</th>\n",
       "      <th>Data da compra</th>\n",
       "      <th>Localização</th>\n",
       "      <th>Valor da compra</th>\n",
       "    </tr>\n",
       "  </thead>\n",
       "  <tbody>\n",
       "    <tr>\n",
       "      <th>0</th>\n",
       "      <td>Joaquim Souza</td>\n",
       "      <td>Produto B</td>\n",
       "      <td>9</td>\n",
       "      <td>33.32</td>\n",
       "      <td>299.88</td>\n",
       "      <td>12/01/2023</td>\n",
       "      <td>PI</td>\n",
       "      <td>299.88</td>\n",
       "    </tr>\n",
       "    <tr>\n",
       "      <th>1</th>\n",
       "      <td>Lorenzo da Luz</td>\n",
       "      <td>Produto B</td>\n",
       "      <td>10</td>\n",
       "      <td>94.38</td>\n",
       "      <td>943.80</td>\n",
       "      <td>24/03/2023</td>\n",
       "      <td>DF</td>\n",
       "      <td>943.80</td>\n",
       "    </tr>\n",
       "    <tr>\n",
       "      <th>2</th>\n",
       "      <td>Gustavo Henrique Moreira</td>\n",
       "      <td>Produto E</td>\n",
       "      <td>9</td>\n",
       "      <td>84.45</td>\n",
       "      <td>760.05</td>\n",
       "      <td>11/06/2022</td>\n",
       "      <td>PE</td>\n",
       "      <td>760.05</td>\n",
       "    </tr>\n",
       "    <tr>\n",
       "      <th>3</th>\n",
       "      <td>Lorena da Costa</td>\n",
       "      <td>Produto C</td>\n",
       "      <td>5</td>\n",
       "      <td>34.14</td>\n",
       "      <td>170.70</td>\n",
       "      <td>24/12/2022</td>\n",
       "      <td>RO</td>\n",
       "      <td>170.70</td>\n",
       "    </tr>\n",
       "    <tr>\n",
       "      <th>4</th>\n",
       "      <td>Caio Monteiro</td>\n",
       "      <td>Produto C</td>\n",
       "      <td>2</td>\n",
       "      <td>94.42</td>\n",
       "      <td>188.84</td>\n",
       "      <td>27/05/2022</td>\n",
       "      <td>MG</td>\n",
       "      <td>188.84</td>\n",
       "    </tr>\n",
       "  </tbody>\n",
       "</table>\n",
       "</div>"
      ],
      "text/plain": [
       "           Nome do vendedor Produto vendido  Quantidade unitária  \\\n",
       "0             Joaquim Souza       Produto B                    9   \n",
       "1            Lorenzo da Luz       Produto B                   10   \n",
       "2  Gustavo Henrique Moreira       Produto E                    9   \n",
       "3           Lorena da Costa       Produto C                    5   \n",
       "4             Caio Monteiro       Produto C                    2   \n",
       "\n",
       "   Valor do produto  Valor da venda Data da compra Localização  \\\n",
       "0             33.32          299.88     12/01/2023          PI   \n",
       "1             94.38          943.80     24/03/2023          DF   \n",
       "2             84.45          760.05     11/06/2022          PE   \n",
       "3             34.14          170.70     24/12/2022          RO   \n",
       "4             94.42          188.84     27/05/2022          MG   \n",
       "\n",
       "   Valor da compra  \n",
       "0           299.88  \n",
       "1           943.80  \n",
       "2           760.05  \n",
       "3           170.70  \n",
       "4           188.84  "
      ]
     },
     "execution_count": 65,
     "metadata": {},
     "output_type": "execute_result"
    }
   ],
   "source": [
    "#caluculando valor de da compra\n",
    "\n",
    "df['Valor da compra'] = df['Quantidade unitária'] *df['Valor do produto']\n",
    "df.head()"
   ]
  },
  {
   "cell_type": "code",
   "execution_count": 66,
   "id": "6bc8d08c",
   "metadata": {},
   "outputs": [],
   "source": [
    "#adicionando uma coluna\n",
    "\n",
    "df['indicador_atualizado'] =0"
   ]
  },
  {
   "cell_type": "code",
   "execution_count": 67,
   "id": "d9bbc8b5",
   "metadata": {},
   "outputs": [
    {
     "data": {
      "text/html": [
       "<div>\n",
       "<style scoped>\n",
       "    .dataframe tbody tr th:only-of-type {\n",
       "        vertical-align: middle;\n",
       "    }\n",
       "\n",
       "    .dataframe tbody tr th {\n",
       "        vertical-align: top;\n",
       "    }\n",
       "\n",
       "    .dataframe thead th {\n",
       "        text-align: right;\n",
       "    }\n",
       "</style>\n",
       "<table border=\"1\" class=\"dataframe\">\n",
       "  <thead>\n",
       "    <tr style=\"text-align: right;\">\n",
       "      <th></th>\n",
       "      <th>Nome do vendedor</th>\n",
       "      <th>Produto vendido</th>\n",
       "      <th>Quantidade unitária</th>\n",
       "      <th>Valor do produto</th>\n",
       "      <th>Valor da venda</th>\n",
       "      <th>Data da compra</th>\n",
       "      <th>Localização</th>\n",
       "      <th>Valor da compra</th>\n",
       "      <th>indicador_atualizado</th>\n",
       "    </tr>\n",
       "  </thead>\n",
       "  <tbody>\n",
       "    <tr>\n",
       "      <th>0</th>\n",
       "      <td>Joaquim Souza</td>\n",
       "      <td>Produto B</td>\n",
       "      <td>9</td>\n",
       "      <td>33.32</td>\n",
       "      <td>299.88</td>\n",
       "      <td>12/01/2023</td>\n",
       "      <td>PI</td>\n",
       "      <td>299.88</td>\n",
       "      <td>0</td>\n",
       "    </tr>\n",
       "    <tr>\n",
       "      <th>1</th>\n",
       "      <td>Lorenzo da Luz</td>\n",
       "      <td>Produto B</td>\n",
       "      <td>10</td>\n",
       "      <td>94.38</td>\n",
       "      <td>943.80</td>\n",
       "      <td>24/03/2023</td>\n",
       "      <td>DF</td>\n",
       "      <td>943.80</td>\n",
       "      <td>0</td>\n",
       "    </tr>\n",
       "    <tr>\n",
       "      <th>2</th>\n",
       "      <td>Gustavo Henrique Moreira</td>\n",
       "      <td>Produto E</td>\n",
       "      <td>9</td>\n",
       "      <td>84.45</td>\n",
       "      <td>760.05</td>\n",
       "      <td>11/06/2022</td>\n",
       "      <td>PE</td>\n",
       "      <td>760.05</td>\n",
       "      <td>0</td>\n",
       "    </tr>\n",
       "    <tr>\n",
       "      <th>3</th>\n",
       "      <td>Lorena da Costa</td>\n",
       "      <td>Produto C</td>\n",
       "      <td>5</td>\n",
       "      <td>34.14</td>\n",
       "      <td>170.70</td>\n",
       "      <td>24/12/2022</td>\n",
       "      <td>RO</td>\n",
       "      <td>170.70</td>\n",
       "      <td>0</td>\n",
       "    </tr>\n",
       "    <tr>\n",
       "      <th>4</th>\n",
       "      <td>Caio Monteiro</td>\n",
       "      <td>Produto C</td>\n",
       "      <td>2</td>\n",
       "      <td>94.42</td>\n",
       "      <td>188.84</td>\n",
       "      <td>27/05/2022</td>\n",
       "      <td>MG</td>\n",
       "      <td>188.84</td>\n",
       "      <td>0</td>\n",
       "    </tr>\n",
       "  </tbody>\n",
       "</table>\n",
       "</div>"
      ],
      "text/plain": [
       "           Nome do vendedor Produto vendido  Quantidade unitária  \\\n",
       "0             Joaquim Souza       Produto B                    9   \n",
       "1            Lorenzo da Luz       Produto B                   10   \n",
       "2  Gustavo Henrique Moreira       Produto E                    9   \n",
       "3           Lorena da Costa       Produto C                    5   \n",
       "4             Caio Monteiro       Produto C                    2   \n",
       "\n",
       "   Valor do produto  Valor da venda Data da compra Localização  \\\n",
       "0             33.32          299.88     12/01/2023          PI   \n",
       "1             94.38          943.80     24/03/2023          DF   \n",
       "2             84.45          760.05     11/06/2022          PE   \n",
       "3             34.14          170.70     24/12/2022          RO   \n",
       "4             94.42          188.84     27/05/2022          MG   \n",
       "\n",
       "   Valor da compra  indicador_atualizado  \n",
       "0           299.88                     0  \n",
       "1           943.80                     0  \n",
       "2           760.05                     0  \n",
       "3           170.70                     0  \n",
       "4           188.84                     0  "
      ]
     },
     "execution_count": 67,
     "metadata": {},
     "output_type": "execute_result"
    }
   ],
   "source": [
    "df.head()"
   ]
  },
  {
   "cell_type": "code",
   "execution_count": null,
   "id": "c186cac1",
   "metadata": {},
   "outputs": [],
   "source": [
    "#multiplicação por 0 para termos o infinito\n",
    "\n",
    "df['teste'] =df['Valor do produto'] /0 * -1\n",
    "df.head()"
   ]
  },
  {
   "cell_type": "code",
   "execution_count": null,
   "id": "9517d385",
   "metadata": {},
   "outputs": [],
   "source": [
    "\n",
    "df['teste1'] =df['Valor do produto'] /2 * 3\n",
    "df.head()"
   ]
  },
  {
   "cell_type": "code",
   "execution_count": 76,
   "id": "eddcbfce",
   "metadata": {},
   "outputs": [
    {
     "data": {
      "text/plain": [
       "'indicador_atualizado'"
      ]
     },
     "execution_count": 76,
     "metadata": {},
     "output_type": "execute_result"
    }
   ],
   "source": [
    "df.columns\n",
    "max(df.columns, key = len)"
   ]
  },
  {
   "cell_type": "code",
   "execution_count": null,
   "id": "a9f5201c",
   "metadata": {},
   "outputs": [],
   "source": [
    "#Ordenando dados e colunas em especifico, posso muldar uma cloluna de posição usando função abaixo\n",
    "\n",
    "colunas_ordenadas = ['Nome do vendedor','Data da compra' , 'Produto vendido', 'Quantidade unitária', \n",
    "                     'Valor do produto','Valor da compra','Localização',\n",
    "                     'indicador_atualizado']\n",
    "df[colunas_ordenadas]"
   ]
  },
  {
   "cell_type": "code",
   "execution_count": 51,
   "id": "87123579",
   "metadata": {},
   "outputs": [
    {
     "data": {
      "text/plain": [
       "Nome do vendedor        object\n",
       "Produto vendido         object\n",
       "Quantidade unitária      int64\n",
       "Valor do produto       float64\n",
       "Valor da venda         float64\n",
       "Data da compra          object\n",
       "Localização             object\n",
       "dtype: object"
      ]
     },
     "execution_count": 51,
     "metadata": {},
     "output_type": "execute_result"
    }
   ],
   "source": [
    "df.dtypes"
   ]
  },
  {
   "cell_type": "markdown",
   "id": "87937587",
   "metadata": {},
   "source": [
    "#### Método apply\n",
    "***\n",
    "O método apply é usado para aplicar uma função a cada linha ou coluna de um DataFrame. Podemos usar funções definidas por nós mesmos ou funções built-in do Python.\n"
   ]
  },
  {
   "cell_type": "code",
   "execution_count": 87,
   "id": "0932f9f4",
   "metadata": {},
   "outputs": [],
   "source": [
    "#função para calulcuar comissaõ, aplicando regra apenas em uma linha da tabela\n",
    "def calcular_meta_e_comissao(Valor_venda):\n",
    "    if Valor_venda >= 500:\n",
    "        meta= 'Acima de 500'\n",
    "        comissao = Valor_venda * 0.1\n",
    "    else:\n",
    "        meta= 'Abaixo de 500'\n",
    "        comissao = Valor_venda * 0.05\n",
    "        return pd.Series([meta, comissao])\n"
   ]
  },
  {
   "cell_type": "code",
   "execution_count": 101,
   "id": "d25bd49a",
   "metadata": {},
   "outputs": [],
   "source": [
    "def calcular_meta_e_comissao(valor_venda):\n",
    "    if valor_venda > 200:\n",
    "        meta= 'Acima de 500'\n",
    "        comissao= valor_venda * 0.1\n",
    "    else:\n",
    "        meta= 'Abaixo de 500'\n",
    "        comissao= valor_venda * 0.05\n",
    "        return pd.Series([meta, comissao])"
   ]
  },
  {
   "cell_type": "code",
   "execution_count": 75,
   "id": "b149dda5",
   "metadata": {},
   "outputs": [
    {
     "data": {
      "text/plain": [
       "<function __main__.calcular_meta_e_comissao(Valor_venda)>"
      ]
     },
     "execution_count": 75,
     "metadata": {},
     "output_type": "execute_result"
    }
   ],
   "source": [
    "calcular_meta_e_comissao"
   ]
  },
  {
   "cell_type": "code",
   "execution_count": 98,
   "id": "08ab99c2",
   "metadata": {},
   "outputs": [
    {
     "data": {
      "text/plain": [
       "0                                                   None\n",
       "1                                                   None\n",
       "2                                                   None\n",
       "3      0    Abaixo de 500\n",
       "1            8.535\n",
       "dtype: o...\n",
       "4      0    Abaixo de 500\n",
       "1            9.442\n",
       "dtype: o...\n",
       "                             ...                        \n",
       "995    0    Abaixo de 500\n",
       "1            2.129\n",
       "dtype: o...\n",
       "996                                                 None\n",
       "997    0    Abaixo de 500\n",
       "1            4.284\n",
       "dtype: o...\n",
       "998    0    Abaixo de 500\n",
       "1            9.204\n",
       "dtype: o...\n",
       "999    0    Abaixo de 500\n",
       "1            7.776\n",
       "dtype: o...\n",
       "Name: Valor da venda, Length: 1000, dtype: object"
      ]
     },
     "execution_count": 98,
     "metadata": {},
     "output_type": "execute_result"
    }
   ],
   "source": [
    "df['Valor da venda'].apply(calcular_meta_e_comissao)\n"
   ]
  },
  {
   "cell_type": "code",
   "execution_count": null,
   "id": "4d90d0d3",
   "metadata": {},
   "outputs": [],
   "source": []
  },
  {
   "cell_type": "code",
   "execution_count": null,
   "id": "a6b5f90e",
   "metadata": {},
   "outputs": [],
   "source": []
  },
  {
   "cell_type": "code",
   "execution_count": null,
   "id": "04ff7059",
   "metadata": {},
   "outputs": [],
   "source": []
  }
 ],
 "metadata": {
  "kernelspec": {
   "display_name": "pucminas",
   "language": "python",
   "name": "pucminas"
  },
  "language_info": {
   "codemirror_mode": {
    "name": "ipython",
    "version": 3
   },
   "file_extension": ".py",
   "mimetype": "text/x-python",
   "name": "python",
   "nbconvert_exporter": "python",
   "pygments_lexer": "ipython3",
   "version": "3.10.0"
  }
 },
 "nbformat": 4,
 "nbformat_minor": 5
}
