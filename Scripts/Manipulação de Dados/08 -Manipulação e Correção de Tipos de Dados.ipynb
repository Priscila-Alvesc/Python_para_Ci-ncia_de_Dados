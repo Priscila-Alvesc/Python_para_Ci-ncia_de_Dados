{
 "cells": [
  {
   "cell_type": "markdown",
   "id": "f3f2076e",
   "metadata": {},
   "source": [
    "#### Manipulação e Correção de Tipos de Dados\n",
    "***\n",
    "\n",
    "Um dos aspectos fundamentais no processamento de dados é garantir que os tipos de dados estejam corretos e adequados para as operações que serão realizadas. Uma má interpretação dos tipos de dados pode levar a resultados imprecisos ou inconsistentes em análises e modelos de dados.\n",
    "\n",
    "Uma das principais razões pelas quais a manipulação e correção de tipos de dados é importante é porque diferentes tipos de dados têm comportamentos e propriedades específicas. Por exemplo, os números inteiros são tratados de forma diferente dos números de ponto flutuante, e as datas e horários têm suas próprias peculiaridades de manipulação e cálculo. Ao garantir que os tipos de dados sejam corretamente interpretados, podemos realizar operações matemáticas, filtros e comparações com precisão."
   ]
  },
  {
   "cell_type": "markdown",
   "id": "6072fe86",
   "metadata": {},
   "source": [
    "#### Importando as Bibliotecas\n"
   ]
  },
  {
   "cell_type": "code",
   "execution_count": 53,
   "id": "f42670ce",
   "metadata": {},
   "outputs": [],
   "source": [
    "import pandas as pd"
   ]
  },
  {
   "cell_type": "markdown",
   "id": "0faf0b14",
   "metadata": {},
   "source": [
    "#### Coletando Dados de Perfil\n",
    "***"
   ]
  },
  {
   "cell_type": "code",
   "execution_count": 94,
   "id": "f03bc5b9",
   "metadata": {},
   "outputs": [
    {
     "data": {
      "text/html": [
       "<div>\n",
       "<style scoped>\n",
       "    .dataframe tbody tr th:only-of-type {\n",
       "        vertical-align: middle;\n",
       "    }\n",
       "\n",
       "    .dataframe tbody tr th {\n",
       "        vertical-align: top;\n",
       "    }\n",
       "\n",
       "    .dataframe thead th {\n",
       "        text-align: right;\n",
       "    }\n",
       "</style>\n",
       "<table border=\"1\" class=\"dataframe\">\n",
       "  <thead>\n",
       "    <tr style=\"text-align: right;\">\n",
       "      <th></th>\n",
       "      <th>idade</th>\n",
       "      <th>classe_trabalho</th>\n",
       "      <th>escolaridade</th>\n",
       "      <th>anos_estudo</th>\n",
       "      <th>estado_civil</th>\n",
       "      <th>raca</th>\n",
       "      <th>sexo</th>\n",
       "      <th>UF</th>\n",
       "      <th>região</th>\n",
       "      <th>qtde_filhos</th>\n",
       "      <th>salario</th>\n",
       "    </tr>\n",
       "  </thead>\n",
       "  <tbody>\n",
       "    <tr>\n",
       "      <th>0</th>\n",
       "      <td>39</td>\n",
       "      <td>Servidor Público</td>\n",
       "      <td>Ensino Médio Completo</td>\n",
       "      <td>13</td>\n",
       "      <td>Solteiro</td>\n",
       "      <td>Branco</td>\n",
       "      <td>Masculino</td>\n",
       "      <td>RO</td>\n",
       "      <td>Norte</td>\n",
       "      <td>2.0</td>\n",
       "      <td>4754,50</td>\n",
       "    </tr>\n",
       "    <tr>\n",
       "      <th>1</th>\n",
       "      <td>50</td>\n",
       "      <td>Autônomo</td>\n",
       "      <td>Superior Incompleto</td>\n",
       "      <td>13</td>\n",
       "      <td>Casado</td>\n",
       "      <td>Branco</td>\n",
       "      <td>Masculino</td>\n",
       "      <td>AC</td>\n",
       "      <td>Norte</td>\n",
       "      <td>1.0</td>\n",
       "      <td>3923</td>\n",
       "    </tr>\n",
       "    <tr>\n",
       "      <th>2</th>\n",
       "      <td>38</td>\n",
       "      <td>Funcionário Setor Privado</td>\n",
       "      <td>Ensino Médio Incompleto</td>\n",
       "      <td>9</td>\n",
       "      <td>Divorciado</td>\n",
       "      <td>Branco</td>\n",
       "      <td>Masculino</td>\n",
       "      <td>AM</td>\n",
       "      <td>Norte</td>\n",
       "      <td>0.0</td>\n",
       "      <td>1100,50</td>\n",
       "    </tr>\n",
       "    <tr>\n",
       "      <th>3</th>\n",
       "      <td>53</td>\n",
       "      <td>Funcionário Setor Privado</td>\n",
       "      <td>Ensino Médio Incompleto</td>\n",
       "      <td>7</td>\n",
       "      <td>Casado</td>\n",
       "      <td>Negro</td>\n",
       "      <td>Masculino</td>\n",
       "      <td>RR</td>\n",
       "      <td>Norte</td>\n",
       "      <td>1.0</td>\n",
       "      <td>1100</td>\n",
       "    </tr>\n",
       "    <tr>\n",
       "      <th>4</th>\n",
       "      <td>28</td>\n",
       "      <td>Funcionário Setor Privado</td>\n",
       "      <td>Ensino Médio Completo</td>\n",
       "      <td>13</td>\n",
       "      <td>Casado</td>\n",
       "      <td>Negro</td>\n",
       "      <td>Feminino</td>\n",
       "      <td>PA</td>\n",
       "      <td>Norte</td>\n",
       "      <td>0.0</td>\n",
       "      <td>3430</td>\n",
       "    </tr>\n",
       "  </tbody>\n",
       "</table>\n",
       "</div>"
      ],
      "text/plain": [
       "   idade            classe_trabalho             escolaridade  anos_estudo  \\\n",
       "0     39           Servidor Público    Ensino Médio Completo           13   \n",
       "1     50                   Autônomo      Superior Incompleto           13   \n",
       "2     38  Funcionário Setor Privado  Ensino Médio Incompleto            9   \n",
       "3     53  Funcionário Setor Privado  Ensino Médio Incompleto            7   \n",
       "4     28  Funcionário Setor Privado    Ensino Médio Completo           13   \n",
       "\n",
       "  estado_civil    raca       sexo  UF região  qtde_filhos  salario  \n",
       "0     Solteiro  Branco  Masculino  RO  Norte          2.0  4754,50  \n",
       "1       Casado  Branco  Masculino  AC  Norte          1.0     3923  \n",
       "2   Divorciado  Branco  Masculino  AM  Norte          0.0  1100,50  \n",
       "3       Casado   Negro  Masculino  RR  Norte          1.0     1100  \n",
       "4       Casado   Negro   Feminino  PA  Norte          0.0     3430  "
      ]
     },
     "execution_count": 94,
     "metadata": {},
     "output_type": "execute_result"
    }
   ],
   "source": [
    "df = pd.read_csv('./datasets/perfil_clientes.csv' , sep=';', encoding='utf8')\n",
    "df.head()"
   ]
  },
  {
   "cell_type": "markdown",
   "id": "6dc68a44",
   "metadata": {},
   "source": [
    "#### Entendimento Inicial dos Dados\n",
    "***\n",
    "É necessário analisar os dados para entender a estrutura, identificar variáveis, e verificar possíveis problemas."
   ]
  },
  {
   "cell_type": "code",
   "execution_count": 95,
   "id": "b3f56b7b",
   "metadata": {},
   "outputs": [
    {
     "data": {
      "text/html": [
       "<div>\n",
       "<style scoped>\n",
       "    .dataframe tbody tr th:only-of-type {\n",
       "        vertical-align: middle;\n",
       "    }\n",
       "\n",
       "    .dataframe tbody tr th {\n",
       "        vertical-align: top;\n",
       "    }\n",
       "\n",
       "    .dataframe thead th {\n",
       "        text-align: right;\n",
       "    }\n",
       "</style>\n",
       "<table border=\"1\" class=\"dataframe\">\n",
       "  <thead>\n",
       "    <tr style=\"text-align: right;\">\n",
       "      <th></th>\n",
       "      <th>idade</th>\n",
       "      <th>classe_trabalho</th>\n",
       "      <th>escolaridade</th>\n",
       "      <th>anos_estudo</th>\n",
       "      <th>estado_civil</th>\n",
       "      <th>raca</th>\n",
       "      <th>sexo</th>\n",
       "      <th>UF</th>\n",
       "      <th>região</th>\n",
       "      <th>qtde_filhos</th>\n",
       "      <th>salario</th>\n",
       "    </tr>\n",
       "  </thead>\n",
       "  <tbody>\n",
       "    <tr>\n",
       "      <th>7994</th>\n",
       "      <td>23</td>\n",
       "      <td>Funcionário Setor Privado</td>\n",
       "      <td>Ensino Médio Completo</td>\n",
       "      <td>10</td>\n",
       "      <td>Casado</td>\n",
       "      <td>Negro</td>\n",
       "      <td>Masculino</td>\n",
       "      <td>AL</td>\n",
       "      <td>Nordeste</td>\n",
       "      <td>3.0</td>\n",
       "      <td>2856</td>\n",
       "    </tr>\n",
       "    <tr>\n",
       "      <th>7995</th>\n",
       "      <td>19</td>\n",
       "      <td>Funcionário Setor Privado</td>\n",
       "      <td>Ensino Médio Incompleto</td>\n",
       "      <td>9</td>\n",
       "      <td>Solteiro</td>\n",
       "      <td>Branco</td>\n",
       "      <td>Feminino</td>\n",
       "      <td>SE</td>\n",
       "      <td>Nordeste</td>\n",
       "      <td>1.0</td>\n",
       "      <td>1100</td>\n",
       "    </tr>\n",
       "    <tr>\n",
       "      <th>7996</th>\n",
       "      <td>44</td>\n",
       "      <td>NaN</td>\n",
       "      <td>Ensino Médio Completo</td>\n",
       "      <td>10</td>\n",
       "      <td>Casado</td>\n",
       "      <td>Branco</td>\n",
       "      <td>Masculino</td>\n",
       "      <td>BA</td>\n",
       "      <td>Nordeste</td>\n",
       "      <td>0.0</td>\n",
       "      <td>3729</td>\n",
       "    </tr>\n",
       "    <tr>\n",
       "      <th>7997</th>\n",
       "      <td>20</td>\n",
       "      <td>Funcionário Setor Privado</td>\n",
       "      <td>Ensino Médio Incompleto</td>\n",
       "      <td>9</td>\n",
       "      <td>Solteiro</td>\n",
       "      <td>Negro</td>\n",
       "      <td>Masculino</td>\n",
       "      <td>MG</td>\n",
       "      <td>Sudeste</td>\n",
       "      <td>0.0</td>\n",
       "      <td>1100</td>\n",
       "    </tr>\n",
       "    <tr>\n",
       "      <th>7998</th>\n",
       "      <td>41</td>\n",
       "      <td>Funcionário Setor Privado</td>\n",
       "      <td>Ensino Médio Completo</td>\n",
       "      <td>13</td>\n",
       "      <td>Casado</td>\n",
       "      <td>Branco</td>\n",
       "      <td>Masculino</td>\n",
       "      <td>AP</td>\n",
       "      <td>Norte</td>\n",
       "      <td>1.0</td>\n",
       "      <td>2579</td>\n",
       "    </tr>\n",
       "  </tbody>\n",
       "</table>\n",
       "</div>"
      ],
      "text/plain": [
       "      idade            classe_trabalho             escolaridade  anos_estudo  \\\n",
       "7994     23  Funcionário Setor Privado    Ensino Médio Completo           10   \n",
       "7995     19  Funcionário Setor Privado  Ensino Médio Incompleto            9   \n",
       "7996     44                        NaN    Ensino Médio Completo           10   \n",
       "7997     20  Funcionário Setor Privado  Ensino Médio Incompleto            9   \n",
       "7998     41  Funcionário Setor Privado    Ensino Médio Completo           13   \n",
       "\n",
       "     estado_civil    raca       sexo  UF    região  qtde_filhos salario  \n",
       "7994       Casado   Negro  Masculino  AL  Nordeste          3.0    2856  \n",
       "7995     Solteiro  Branco   Feminino  SE  Nordeste          1.0    1100  \n",
       "7996       Casado  Branco  Masculino  BA  Nordeste          0.0    3729  \n",
       "7997     Solteiro   Negro  Masculino  MG   Sudeste          0.0    1100  \n",
       "7998       Casado  Branco  Masculino  AP     Norte          1.0    2579  "
      ]
     },
     "execution_count": 95,
     "metadata": {},
     "output_type": "execute_result"
    }
   ],
   "source": [
    "df.tail()"
   ]
  },
  {
   "cell_type": "code",
   "execution_count": 96,
   "id": "650b4570",
   "metadata": {},
   "outputs": [
    {
     "name": "stdout",
     "output_type": "stream",
     "text": [
      "<class 'pandas.core.frame.DataFrame'>\n",
      "RangeIndex: 7999 entries, 0 to 7998\n",
      "Data columns (total 11 columns):\n",
      " #   Column           Non-Null Count  Dtype  \n",
      "---  ------           --------------  -----  \n",
      " 0   idade            7999 non-null   int64  \n",
      " 1   classe_trabalho  7612 non-null   object \n",
      " 2   escolaridade     7999 non-null   object \n",
      " 3   anos_estudo      7999 non-null   int64  \n",
      " 4   estado_civil     7999 non-null   object \n",
      " 5   raca             7999 non-null   object \n",
      " 6   sexo             7999 non-null   object \n",
      " 7   UF               7999 non-null   object \n",
      " 8   região           7999 non-null   object \n",
      " 9   qtde_filhos      7997 non-null   float64\n",
      " 10  salario          7999 non-null   object \n",
      "dtypes: float64(1), int64(2), object(8)\n",
      "memory usage: 687.5+ KB\n"
     ]
    }
   ],
   "source": [
    "#deve-se avaliar quais tips de dados apresentam alguma divergência em seu tipo, por exemplo: salalario está como inteiro, porém ele pode ser float\n",
    "# outro ponto que deve-se observar dados faltantes, base tem 7999 registros e na coluna 'classe_trabalho' temos apenas 7612\n",
    "df.info()"
   ]
  },
  {
   "cell_type": "code",
   "execution_count": 97,
   "id": "1aee88bb",
   "metadata": {},
   "outputs": [
    {
     "data": {
      "text/html": [
       "<div>\n",
       "<style scoped>\n",
       "    .dataframe tbody tr th:only-of-type {\n",
       "        vertical-align: middle;\n",
       "    }\n",
       "\n",
       "    .dataframe tbody tr th {\n",
       "        vertical-align: top;\n",
       "    }\n",
       "\n",
       "    .dataframe thead th {\n",
       "        text-align: right;\n",
       "    }\n",
       "</style>\n",
       "<table border=\"1\" class=\"dataframe\">\n",
       "  <thead>\n",
       "    <tr style=\"text-align: right;\">\n",
       "      <th></th>\n",
       "      <th>idade</th>\n",
       "      <th>anos_estudo</th>\n",
       "      <th>qtde_filhos</th>\n",
       "    </tr>\n",
       "  </thead>\n",
       "  <tbody>\n",
       "    <tr>\n",
       "      <th>count</th>\n",
       "      <td>7999.000000</td>\n",
       "      <td>7999.000000</td>\n",
       "      <td>7997.000000</td>\n",
       "    </tr>\n",
       "    <tr>\n",
       "      <th>mean</th>\n",
       "      <td>38.477060</td>\n",
       "      <td>10.067633</td>\n",
       "      <td>2.404902</td>\n",
       "    </tr>\n",
       "    <tr>\n",
       "      <th>std</th>\n",
       "      <td>13.568667</td>\n",
       "      <td>2.537797</td>\n",
       "      <td>1.704059</td>\n",
       "    </tr>\n",
       "    <tr>\n",
       "      <th>min</th>\n",
       "      <td>17.000000</td>\n",
       "      <td>1.000000</td>\n",
       "      <td>0.000000</td>\n",
       "    </tr>\n",
       "    <tr>\n",
       "      <th>25%</th>\n",
       "      <td>28.000000</td>\n",
       "      <td>9.000000</td>\n",
       "      <td>1.000000</td>\n",
       "    </tr>\n",
       "    <tr>\n",
       "      <th>50%</th>\n",
       "      <td>37.000000</td>\n",
       "      <td>10.000000</td>\n",
       "      <td>2.000000</td>\n",
       "    </tr>\n",
       "    <tr>\n",
       "      <th>75%</th>\n",
       "      <td>47.000000</td>\n",
       "      <td>12.000000</td>\n",
       "      <td>4.000000</td>\n",
       "    </tr>\n",
       "    <tr>\n",
       "      <th>max</th>\n",
       "      <td>90.000000</td>\n",
       "      <td>16.000000</td>\n",
       "      <td>5.000000</td>\n",
       "    </tr>\n",
       "  </tbody>\n",
       "</table>\n",
       "</div>"
      ],
      "text/plain": [
       "             idade  anos_estudo  qtde_filhos\n",
       "count  7999.000000  7999.000000  7997.000000\n",
       "mean     38.477060    10.067633     2.404902\n",
       "std      13.568667     2.537797     1.704059\n",
       "min      17.000000     1.000000     0.000000\n",
       "25%      28.000000     9.000000     1.000000\n",
       "50%      37.000000    10.000000     2.000000\n",
       "75%      47.000000    12.000000     4.000000\n",
       "max      90.000000    16.000000     5.000000"
      ]
     },
     "execution_count": 97,
     "metadata": {},
     "output_type": "execute_result"
    }
   ],
   "source": [
    "#Describe -  sempre apresentra as variaveis categóricas\n",
    "df.describe()"
   ]
  },
  {
   "cell_type": "markdown",
   "id": "0592d12b",
   "metadata": {},
   "source": [
    "#### Corrigindo Tipo de Dados\n",
    "***\n",
    "Dados incorretamente tipados podem levar a erros nas análises. É essencial garantir que cada coluna de dados tenha o tipo correto."
   ]
  },
  {
   "cell_type": "code",
   "execution_count": 98,
   "id": "8aff1500",
   "metadata": {},
   "outputs": [
    {
     "data": {
      "text/plain": [
       "0       4754.50\n",
       "1          3923\n",
       "2       1100.50\n",
       "3          1100\n",
       "4          3430\n",
       "         ...   \n",
       "7994       2856\n",
       "7995       1100\n",
       "7996       3729\n",
       "7997       1100\n",
       "7998       2579\n",
       "Name: salario, Length: 7999, dtype: object"
      ]
     },
     "execution_count": 98,
     "metadata": {},
     "output_type": "execute_result"
    }
   ],
   "source": [
    "#funcionalidade para corrigir algum dformati de dado, por exemplo, o salario é int, separado com ., porém na base temos registos com ',' deve-se corrigir o preenchmento do dado\n",
    "df['salario'].str.replace(',' , '.')"
   ]
  },
  {
   "cell_type": "code",
   "execution_count": 99,
   "id": "1c3ccd92",
   "metadata": {},
   "outputs": [
    {
     "data": {
      "text/plain": [
       "pandas.core.series.Series"
      ]
     },
     "execution_count": 99,
     "metadata": {},
     "output_type": "execute_result"
    }
   ],
   "source": [
    "type(df['salario'])"
   ]
  },
  {
   "cell_type": "code",
   "execution_count": 100,
   "id": "bd61788b",
   "metadata": {},
   "outputs": [],
   "source": [
    "#como  campo salario é um series, podemos alterar o valor dados, porém o campo ainda não esta declarado com inteiro\n",
    "#lembre-se: primeiro corrige o dado, depois o manipule\n",
    "df['salario'] = df['salario'].str.replace(',' , '.')"
   ]
  },
  {
   "cell_type": "code",
   "execution_count": 101,
   "id": "c0ebde29",
   "metadata": {},
   "outputs": [],
   "source": [
    "#Aqui estou corrigindo a declaração do campo, tronando ele float\n",
    "df['salario'] = df['salario'].astype('float')"
   ]
  },
  {
   "cell_type": "code",
   "execution_count": 102,
   "id": "be4a8f64",
   "metadata": {},
   "outputs": [
    {
     "name": "stdout",
     "output_type": "stream",
     "text": [
      "<class 'pandas.core.frame.DataFrame'>\n",
      "RangeIndex: 7999 entries, 0 to 7998\n",
      "Data columns (total 11 columns):\n",
      " #   Column           Non-Null Count  Dtype  \n",
      "---  ------           --------------  -----  \n",
      " 0   idade            7999 non-null   int64  \n",
      " 1   classe_trabalho  7612 non-null   object \n",
      " 2   escolaridade     7999 non-null   object \n",
      " 3   anos_estudo      7999 non-null   int64  \n",
      " 4   estado_civil     7999 non-null   object \n",
      " 5   raca             7999 non-null   object \n",
      " 6   sexo             7999 non-null   object \n",
      " 7   UF               7999 non-null   object \n",
      " 8   região           7999 non-null   object \n",
      " 9   qtde_filhos      7997 non-null   float64\n",
      " 10  salario          7999 non-null   float64\n",
      "dtypes: float64(2), int64(2), object(7)\n",
      "memory usage: 687.5+ KB\n"
     ]
    }
   ],
   "source": [
    "df.info()"
   ]
  },
  {
   "cell_type": "code",
   "execution_count": null,
   "id": "97f57e8e",
   "metadata": {},
   "outputs": [],
   "source": []
  },
  {
   "cell_type": "markdown",
   "id": "d7aac2bb",
   "metadata": {},
   "source": [
    "#### Eliminação de Dados Duplicados\n",
    "***\n",
    "A presença de dados duplicados pode distorcer os resultados de análises e modelos. A eliminação de duplicatas é, portanto, uma etapa crucial."
   ]
  },
  {
   "cell_type": "code",
   "execution_count": 41,
   "id": "7e652d7b",
   "metadata": {},
   "outputs": [
    {
     "data": {
      "text/plain": [
       "0       False\n",
       "1       False\n",
       "2       False\n",
       "3       False\n",
       "4       False\n",
       "        ...  \n",
       "7994    False\n",
       "7995     True\n",
       "7996    False\n",
       "7997    False\n",
       "7998    False\n",
       "Length: 7999, dtype: bool"
      ]
     },
     "execution_count": 41,
     "metadata": {},
     "output_type": "execute_result"
    }
   ],
   "source": [
    "#Identificando dados duplicados, devemos remove-los para não etreinarmos nossa ML de forma erronêa\n",
    "df.duplicated()"
   ]
  },
  {
   "cell_type": "code",
   "execution_count": 42,
   "id": "63a71bd0",
   "metadata": {},
   "outputs": [
    {
     "data": {
      "text/html": [
       "<div>\n",
       "<style scoped>\n",
       "    .dataframe tbody tr th:only-of-type {\n",
       "        vertical-align: middle;\n",
       "    }\n",
       "\n",
       "    .dataframe tbody tr th {\n",
       "        vertical-align: top;\n",
       "    }\n",
       "\n",
       "    .dataframe thead th {\n",
       "        text-align: right;\n",
       "    }\n",
       "</style>\n",
       "<table border=\"1\" class=\"dataframe\">\n",
       "  <thead>\n",
       "    <tr style=\"text-align: right;\">\n",
       "      <th></th>\n",
       "      <th>idade</th>\n",
       "      <th>classe_trabalho</th>\n",
       "      <th>escolaridade</th>\n",
       "      <th>anos_estudo</th>\n",
       "      <th>estado_civil</th>\n",
       "      <th>raca</th>\n",
       "      <th>sexo</th>\n",
       "      <th>UF</th>\n",
       "      <th>região</th>\n",
       "      <th>qtde_filhos</th>\n",
       "      <th>salario</th>\n",
       "    </tr>\n",
       "  </thead>\n",
       "  <tbody>\n",
       "    <tr>\n",
       "      <th>859</th>\n",
       "      <td>17</td>\n",
       "      <td>Menor Aprendiz</td>\n",
       "      <td>Ensino Médio Incompleto</td>\n",
       "      <td>7</td>\n",
       "      <td>Solteiro</td>\n",
       "      <td>Branco</td>\n",
       "      <td>Masculino</td>\n",
       "      <td>RR</td>\n",
       "      <td>Norte</td>\n",
       "      <td>0.0</td>\n",
       "      <td>1100.0</td>\n",
       "    </tr>\n",
       "    <tr>\n",
       "      <th>1369</th>\n",
       "      <td>54</td>\n",
       "      <td>Funcionário Setor Privado</td>\n",
       "      <td>Ensino Médio Incompleto</td>\n",
       "      <td>9</td>\n",
       "      <td>Casado</td>\n",
       "      <td>Branco</td>\n",
       "      <td>Masculino</td>\n",
       "      <td>RO</td>\n",
       "      <td>Norte</td>\n",
       "      <td>1.0</td>\n",
       "      <td>1100.0</td>\n",
       "    </tr>\n",
       "    <tr>\n",
       "      <th>1711</th>\n",
       "      <td>38</td>\n",
       "      <td>Funcionário Setor Privado</td>\n",
       "      <td>Ensino Médio Incompleto</td>\n",
       "      <td>9</td>\n",
       "      <td>Casado</td>\n",
       "      <td>Branco</td>\n",
       "      <td>Masculino</td>\n",
       "      <td>RJ</td>\n",
       "      <td>Sudeste</td>\n",
       "      <td>5.0</td>\n",
       "      <td>1100.0</td>\n",
       "    </tr>\n",
       "    <tr>\n",
       "      <th>2196</th>\n",
       "      <td>31</td>\n",
       "      <td>Funcionário Setor Privado</td>\n",
       "      <td>Ensino Médio Incompleto</td>\n",
       "      <td>9</td>\n",
       "      <td>Separado</td>\n",
       "      <td>Branco</td>\n",
       "      <td>Feminino</td>\n",
       "      <td>ES</td>\n",
       "      <td>Sudeste</td>\n",
       "      <td>4.0</td>\n",
       "      <td>1100.0</td>\n",
       "    </tr>\n",
       "    <tr>\n",
       "      <th>2252</th>\n",
       "      <td>25</td>\n",
       "      <td>Funcionário Setor Privado</td>\n",
       "      <td>Ensino Médio Incompleto</td>\n",
       "      <td>9</td>\n",
       "      <td>Solteiro</td>\n",
       "      <td>Branco</td>\n",
       "      <td>Masculino</td>\n",
       "      <td>SP</td>\n",
       "      <td>Sudeste</td>\n",
       "      <td>2.0</td>\n",
       "      <td>1100.0</td>\n",
       "    </tr>\n",
       "    <tr>\n",
       "      <th>...</th>\n",
       "      <td>...</td>\n",
       "      <td>...</td>\n",
       "      <td>...</td>\n",
       "      <td>...</td>\n",
       "      <td>...</td>\n",
       "      <td>...</td>\n",
       "      <td>...</td>\n",
       "      <td>...</td>\n",
       "      <td>...</td>\n",
       "      <td>...</td>\n",
       "      <td>...</td>\n",
       "    </tr>\n",
       "    <tr>\n",
       "      <th>7822</th>\n",
       "      <td>23</td>\n",
       "      <td>Funcionário Setor Privado</td>\n",
       "      <td>Ensino Médio Incompleto</td>\n",
       "      <td>9</td>\n",
       "      <td>Solteiro</td>\n",
       "      <td>Branco</td>\n",
       "      <td>Masculino</td>\n",
       "      <td>RR</td>\n",
       "      <td>Norte</td>\n",
       "      <td>1.0</td>\n",
       "      <td>1100.0</td>\n",
       "    </tr>\n",
       "    <tr>\n",
       "      <th>7853</th>\n",
       "      <td>36</td>\n",
       "      <td>Funcionário Setor Privado</td>\n",
       "      <td>Ensino Médio Incompleto</td>\n",
       "      <td>9</td>\n",
       "      <td>Casado</td>\n",
       "      <td>Branco</td>\n",
       "      <td>Masculino</td>\n",
       "      <td>MA</td>\n",
       "      <td>Nordeste</td>\n",
       "      <td>2.0</td>\n",
       "      <td>1100.0</td>\n",
       "    </tr>\n",
       "    <tr>\n",
       "      <th>7905</th>\n",
       "      <td>28</td>\n",
       "      <td>Funcionário Setor Privado</td>\n",
       "      <td>Ensino Médio Incompleto</td>\n",
       "      <td>9</td>\n",
       "      <td>Solteiro</td>\n",
       "      <td>Branco</td>\n",
       "      <td>Masculino</td>\n",
       "      <td>AP</td>\n",
       "      <td>Norte</td>\n",
       "      <td>4.0</td>\n",
       "      <td>1100.0</td>\n",
       "    </tr>\n",
       "    <tr>\n",
       "      <th>7910</th>\n",
       "      <td>29</td>\n",
       "      <td>Funcionário Setor Privado</td>\n",
       "      <td>Ensino Médio Incompleto</td>\n",
       "      <td>9</td>\n",
       "      <td>Casado</td>\n",
       "      <td>Branco</td>\n",
       "      <td>Masculino</td>\n",
       "      <td>RN</td>\n",
       "      <td>Nordeste</td>\n",
       "      <td>4.0</td>\n",
       "      <td>1100.0</td>\n",
       "    </tr>\n",
       "    <tr>\n",
       "      <th>7995</th>\n",
       "      <td>19</td>\n",
       "      <td>Funcionário Setor Privado</td>\n",
       "      <td>Ensino Médio Incompleto</td>\n",
       "      <td>9</td>\n",
       "      <td>Solteiro</td>\n",
       "      <td>Branco</td>\n",
       "      <td>Feminino</td>\n",
       "      <td>SE</td>\n",
       "      <td>Nordeste</td>\n",
       "      <td>1.0</td>\n",
       "      <td>1100.0</td>\n",
       "    </tr>\n",
       "  </tbody>\n",
       "</table>\n",
       "<p>66 rows × 11 columns</p>\n",
       "</div>"
      ],
      "text/plain": [
       "      idade            classe_trabalho             escolaridade  anos_estudo  \\\n",
       "859      17             Menor Aprendiz  Ensino Médio Incompleto            7   \n",
       "1369     54  Funcionário Setor Privado  Ensino Médio Incompleto            9   \n",
       "1711     38  Funcionário Setor Privado  Ensino Médio Incompleto            9   \n",
       "2196     31  Funcionário Setor Privado  Ensino Médio Incompleto            9   \n",
       "2252     25  Funcionário Setor Privado  Ensino Médio Incompleto            9   \n",
       "...     ...                        ...                      ...          ...   \n",
       "7822     23  Funcionário Setor Privado  Ensino Médio Incompleto            9   \n",
       "7853     36  Funcionário Setor Privado  Ensino Médio Incompleto            9   \n",
       "7905     28  Funcionário Setor Privado  Ensino Médio Incompleto            9   \n",
       "7910     29  Funcionário Setor Privado  Ensino Médio Incompleto            9   \n",
       "7995     19  Funcionário Setor Privado  Ensino Médio Incompleto            9   \n",
       "\n",
       "     estado_civil    raca       sexo  UF    região  qtde_filhos  salario  \n",
       "859      Solteiro  Branco  Masculino  RR     Norte          0.0   1100.0  \n",
       "1369       Casado  Branco  Masculino  RO     Norte          1.0   1100.0  \n",
       "1711       Casado  Branco  Masculino  RJ   Sudeste          5.0   1100.0  \n",
       "2196     Separado  Branco   Feminino  ES   Sudeste          4.0   1100.0  \n",
       "2252     Solteiro  Branco  Masculino  SP   Sudeste          2.0   1100.0  \n",
       "...           ...     ...        ...  ..       ...          ...      ...  \n",
       "7822     Solteiro  Branco  Masculino  RR     Norte          1.0   1100.0  \n",
       "7853       Casado  Branco  Masculino  MA  Nordeste          2.0   1100.0  \n",
       "7905     Solteiro  Branco  Masculino  AP     Norte          4.0   1100.0  \n",
       "7910       Casado  Branco  Masculino  RN  Nordeste          4.0   1100.0  \n",
       "7995     Solteiro  Branco   Feminino  SE  Nordeste          1.0   1100.0  \n",
       "\n",
       "[66 rows x 11 columns]"
      ]
     },
     "execution_count": 42,
     "metadata": {},
     "output_type": "execute_result"
    }
   ],
   "source": [
    "filtro = df.duplicated()\n",
    "df[filtro]"
   ]
  },
  {
   "cell_type": "code",
   "execution_count": 43,
   "id": "329b1169",
   "metadata": {},
   "outputs": [
    {
     "data": {
      "text/plain": [
       "66"
      ]
     },
     "execution_count": 43,
     "metadata": {},
     "output_type": "execute_result"
    }
   ],
   "source": [
    "filtro = df.duplicated()\n",
    "len(df[filtro])"
   ]
  },
  {
   "cell_type": "code",
   "execution_count": 44,
   "id": "ff54e918",
   "metadata": {},
   "outputs": [],
   "source": [
    "duplicado = df.duplicated().sum()\n"
   ]
  },
  {
   "cell_type": "code",
   "execution_count": 46,
   "id": "2c6ae390",
   "metadata": {},
   "outputs": [],
   "source": [
    "df = df.drop_duplicates(inplace=True)\n"
   ]
  },
  {
   "cell_type": "code",
   "execution_count": 47,
   "id": "bddba3b0",
   "metadata": {},
   "outputs": [
    {
     "ename": "AttributeError",
     "evalue": "'NoneType' object has no attribute 'duplicated'",
     "output_type": "error",
     "traceback": [
      "\u001b[1;31m---------------------------------------------------------------------------\u001b[0m",
      "\u001b[1;31mAttributeError\u001b[0m                            Traceback (most recent call last)",
      "Cell \u001b[1;32mIn[47], line 1\u001b[0m\n\u001b[1;32m----> 1\u001b[0m \u001b[43mdf\u001b[49m\u001b[38;5;241;43m.\u001b[39;49m\u001b[43mduplicated\u001b[49m()\u001b[38;5;241m.\u001b[39msum()\n",
      "\u001b[1;31mAttributeError\u001b[0m: 'NoneType' object has no attribute 'duplicated'"
     ]
    }
   ],
   "source": [
    "df.duplicated().sum()"
   ]
  },
  {
   "cell_type": "markdown",
   "id": "4bd76b8a",
   "metadata": {},
   "source": [
    "#### Correção de Dados Ausentes\n",
    "***\n",
    "Dados ausentes podem afetar a integridade das análises. A correção desses dados pode ser feita de várias formas, como preenchimento com valores médios, exclusão de registros ou interpolação."
   ]
  },
  {
   "cell_type": "code",
   "execution_count": 63,
   "id": "c44a0d1c",
   "metadata": {},
   "outputs": [
    {
     "data": {
      "text/plain": [
       "idade                0\n",
       "classe_trabalho    387\n",
       "escolaridade         0\n",
       "anos_estudo          0\n",
       "estado_civil         0\n",
       "raca                 0\n",
       "sexo                 0\n",
       "UF                   0\n",
       "região               0\n",
       "qtde_filhos          2\n",
       "salario              0\n",
       "dtype: int64"
      ]
     },
     "execution_count": 63,
     "metadata": {},
     "output_type": "execute_result"
    }
   ],
   "source": [
    "df.isna().sum()"
   ]
  },
  {
   "cell_type": "code",
   "execution_count": 64,
   "id": "919b7fcb",
   "metadata": {},
   "outputs": [
    {
     "data": {
      "text/html": [
       "<div>\n",
       "<style scoped>\n",
       "    .dataframe tbody tr th:only-of-type {\n",
       "        vertical-align: middle;\n",
       "    }\n",
       "\n",
       "    .dataframe tbody tr th {\n",
       "        vertical-align: top;\n",
       "    }\n",
       "\n",
       "    .dataframe thead th {\n",
       "        text-align: right;\n",
       "    }\n",
       "</style>\n",
       "<table border=\"1\" class=\"dataframe\">\n",
       "  <thead>\n",
       "    <tr style=\"text-align: right;\">\n",
       "      <th></th>\n",
       "      <th>idade</th>\n",
       "      <th>classe_trabalho</th>\n",
       "      <th>escolaridade</th>\n",
       "      <th>anos_estudo</th>\n",
       "      <th>estado_civil</th>\n",
       "      <th>raca</th>\n",
       "      <th>sexo</th>\n",
       "      <th>UF</th>\n",
       "      <th>região</th>\n",
       "      <th>qtde_filhos</th>\n",
       "      <th>salario</th>\n",
       "    </tr>\n",
       "  </thead>\n",
       "  <tbody>\n",
       "    <tr>\n",
       "      <th>12</th>\n",
       "      <td>23</td>\n",
       "      <td>Funcionário Setor Privado</td>\n",
       "      <td>Pós-Graduado</td>\n",
       "      <td>13</td>\n",
       "      <td>Solteiro</td>\n",
       "      <td>Branco</td>\n",
       "      <td>Feminino</td>\n",
       "      <td>PE</td>\n",
       "      <td>Nordeste</td>\n",
       "      <td>NaN</td>\n",
       "      <td>5316.0</td>\n",
       "    </tr>\n",
       "    <tr>\n",
       "      <th>20</th>\n",
       "      <td>40</td>\n",
       "      <td>Funcionário Setor Privado</td>\n",
       "      <td>Doutorado</td>\n",
       "      <td>16</td>\n",
       "      <td>Casado</td>\n",
       "      <td>Branco</td>\n",
       "      <td>Masculino</td>\n",
       "      <td>PR</td>\n",
       "      <td>Sul</td>\n",
       "      <td>NaN</td>\n",
       "      <td>12535.0</td>\n",
       "    </tr>\n",
       "  </tbody>\n",
       "</table>\n",
       "</div>"
      ],
      "text/plain": [
       "    idade            classe_trabalho  escolaridade  anos_estudo estado_civil  \\\n",
       "12     23  Funcionário Setor Privado  Pós-Graduado           13     Solteiro   \n",
       "20     40  Funcionário Setor Privado     Doutorado           16       Casado   \n",
       "\n",
       "      raca       sexo  UF    região  qtde_filhos  salario  \n",
       "12  Branco   Feminino  PE  Nordeste          NaN   5316.0  \n",
       "20  Branco  Masculino  PR       Sul          NaN  12535.0  "
      ]
     },
     "execution_count": 64,
     "metadata": {},
     "output_type": "execute_result"
    }
   ],
   "source": [
    "filtro = df['qtde_filhos'].isna()\n",
    "index_dados_ausentes = df[filtro].index\n",
    "df.loc[index_dados_ausentes]"
   ]
  },
  {
   "cell_type": "markdown",
   "id": "ac40206b",
   "metadata": {},
   "source": [
    "#### Correção de Dados Numericos"
   ]
  },
  {
   "cell_type": "code",
   "execution_count": 135,
   "id": "1952b09e",
   "metadata": {},
   "outputs": [
    {
     "data": {
      "text/plain": [
       "np.float64(2.0)"
      ]
     },
     "execution_count": 135,
     "metadata": {},
     "output_type": "execute_result"
    }
   ],
   "source": [
    "df['qtde_filhos'].median()"
   ]
  },
  {
   "cell_type": "code",
   "execution_count": 136,
   "id": "80b20efd",
   "metadata": {},
   "outputs": [
    {
     "name": "stdout",
     "output_type": "stream",
     "text": [
      "2.0\n"
     ]
    }
   ],
   "source": [
    "mediana_idades = df['qtde_filhos'].median()\n",
    "print(mediana_idades)"
   ]
  },
  {
   "cell_type": "code",
   "execution_count": 137,
   "id": "3045d532",
   "metadata": {},
   "outputs": [
    {
     "data": {
      "text/plain": [
       "<Axes: xlabel='qtde_filhos'>"
      ]
     },
     "execution_count": 137,
     "metadata": {},
     "output_type": "execute_result"
    },
    {
     "data": {
      "image/png": "[encoded data removed]",
      "text/plain": [
       "<Figure size 640x480 with 1 Axes>"
      ]
     },
     "metadata": {},
     "output_type": "display_data"
    }
   ],
   "source": [
    "df.plot('qtde_filhos')"
   ]
  },
  {
   "cell_type": "code",
   "execution_count": 68,
   "id": "91829fc6",
   "metadata": {},
   "outputs": [
    {
     "data": {
      "text/plain": [
       "array([[<Axes: title={'center': 'qtde_filhos'}>]], dtype=object)"
      ]
     },
     "execution_count": 68,
     "metadata": {},
     "output_type": "execute_result"
    },
    {
     "data": {
      "image/png": "[encoded data removed]",
      "text/plain": [
       "<Figure size 640x480 with 1 Axes>"
      ]
     },
     "metadata": {},
     "output_type": "display_data"
    }
   ],
   "source": [
    "df.hist('qtde_filhos')"
   ]
  },
  {
   "cell_type": "code",
   "execution_count": 69,
   "id": "1df6f35f",
   "metadata": {},
   "outputs": [
    {
     "data": {
      "text/plain": [
       "<Axes: >"
      ]
     },
     "execution_count": 69,
     "metadata": {},
     "output_type": "execute_result"
    },
    {
     "data": {
      "image/png": "[encoded data removed]",
      "text/plain": [
       "<Figure size 640x480 with 1 Axes>"
      ]
     },
     "metadata": {},
     "output_type": "display_data"
    }
   ],
   "source": [
    "df['idadedf.boxplot('qtde_filhos')"
   ]
  },
  {
   "cell_type": "markdown",
   "id": "f3bf0b47",
   "metadata": {},
   "source": [
    "Tratatando dados númercios, usando função mediana"
   ]
  },
  {
   "cell_type": "code",
   "execution_count": 138,
   "id": "dde43991",
   "metadata": {},
   "outputs": [
    {
     "name": "stdout",
     "output_type": "stream",
     "text": [
      "37.0\n"
     ]
    }
   ],
   "source": [
    "mediana_idades = df['idade'].median()\n",
    "print(mediana_idades)"
   ]
  },
  {
   "cell_type": "code",
   "execution_count": 139,
   "id": "ca8600c2",
   "metadata": {},
   "outputs": [],
   "source": [
    "df['idade'] = df['idade'].fillna(value= mediana_idades)"
   ]
  },
  {
   "cell_type": "code",
   "execution_count": 140,
   "id": "c7f1502d",
   "metadata": {},
   "outputs": [
    {
     "name": "stdout",
     "output_type": "stream",
     "text": [
      "2.0\n"
     ]
    }
   ],
   "source": [
    "mediana_qtde_filhos = df['qtde_filhos'].median()\n",
    "print(mediana_qtde_filhos)"
   ]
  },
  {
   "cell_type": "code",
   "execution_count": 141,
   "id": "89e394b3",
   "metadata": {},
   "outputs": [],
   "source": [
    "df['qtde_filhos'] =df['qtde_filhos'].fillna(value=mediana_qtde_filhos)"
   ]
  },
  {
   "cell_type": "code",
   "execution_count": 142,
   "id": "6bd3c9a1",
   "metadata": {},
   "outputs": [
    {
     "data": {
      "text/plain": [
       "idade              0\n",
       "classe_trabalho    0\n",
       "escolaridade       0\n",
       "anos_estudo        0\n",
       "estado_civil       0\n",
       "raca               0\n",
       "sexo               0\n",
       "UF                 0\n",
       "região             0\n",
       "qtde_filhos        0\n",
       "salario            0\n",
       "dtype: int64"
      ]
     },
     "execution_count": 142,
     "metadata": {},
     "output_type": "execute_result"
    }
   ],
   "source": [
    "df.isna().sum()"
   ]
  },
  {
   "cell_type": "code",
   "execution_count": 84,
   "id": "140da95f",
   "metadata": {},
   "outputs": [
    {
     "data": {
      "text/html": [
       "<div>\n",
       "<style scoped>\n",
       "    .dataframe tbody tr th:only-of-type {\n",
       "        vertical-align: middle;\n",
       "    }\n",
       "\n",
       "    .dataframe tbody tr th {\n",
       "        vertical-align: top;\n",
       "    }\n",
       "\n",
       "    .dataframe thead th {\n",
       "        text-align: right;\n",
       "    }\n",
       "</style>\n",
       "<table border=\"1\" class=\"dataframe\">\n",
       "  <thead>\n",
       "    <tr style=\"text-align: right;\">\n",
       "      <th></th>\n",
       "      <th>idade</th>\n",
       "      <th>classe_trabalho</th>\n",
       "      <th>escolaridade</th>\n",
       "      <th>anos_estudo</th>\n",
       "      <th>estado_civil</th>\n",
       "      <th>raca</th>\n",
       "      <th>sexo</th>\n",
       "      <th>UF</th>\n",
       "      <th>região</th>\n",
       "      <th>qtde_filhos</th>\n",
       "      <th>salario</th>\n",
       "    </tr>\n",
       "  </thead>\n",
       "  <tbody>\n",
       "    <tr>\n",
       "      <th>12</th>\n",
       "      <td>23</td>\n",
       "      <td>Funcionário Setor Privado</td>\n",
       "      <td>Pós-Graduado</td>\n",
       "      <td>13</td>\n",
       "      <td>Solteiro</td>\n",
       "      <td>Branco</td>\n",
       "      <td>Feminino</td>\n",
       "      <td>PE</td>\n",
       "      <td>Nordeste</td>\n",
       "      <td>2.0</td>\n",
       "      <td>5316.0</td>\n",
       "    </tr>\n",
       "    <tr>\n",
       "      <th>20</th>\n",
       "      <td>40</td>\n",
       "      <td>Funcionário Setor Privado</td>\n",
       "      <td>Doutorado</td>\n",
       "      <td>16</td>\n",
       "      <td>Casado</td>\n",
       "      <td>Branco</td>\n",
       "      <td>Masculino</td>\n",
       "      <td>PR</td>\n",
       "      <td>Sul</td>\n",
       "      <td>2.0</td>\n",
       "      <td>12535.0</td>\n",
       "    </tr>\n",
       "  </tbody>\n",
       "</table>\n",
       "</div>"
      ],
      "text/plain": [
       "    idade            classe_trabalho  escolaridade  anos_estudo estado_civil  \\\n",
       "12     23  Funcionário Setor Privado  Pós-Graduado           13     Solteiro   \n",
       "20     40  Funcionário Setor Privado     Doutorado           16       Casado   \n",
       "\n",
       "      raca       sexo  UF    região  qtde_filhos  salario  \n",
       "12  Branco   Feminino  PE  Nordeste          2.0   5316.0  \n",
       "20  Branco  Masculino  PR       Sul          2.0  12535.0  "
      ]
     },
     "execution_count": 84,
     "metadata": {},
     "output_type": "execute_result"
    }
   ],
   "source": [
    "df.loc[index_dados_ausentes]"
   ]
  },
  {
   "cell_type": "markdown",
   "id": "3f4a87a3",
   "metadata": {},
   "source": [
    "#Correção de Dados Categóricos / vamos trabalahr com a classe_trabalho"
   ]
  },
  {
   "cell_type": "code",
   "execution_count": 103,
   "id": "ae06f65c",
   "metadata": {},
   "outputs": [
    {
     "data": {
      "text/plain": [
       "classe_trabalho\n",
       "Funcionário Setor Privado    5382\n",
       "Autônomo                      588\n",
       "Empresário                    496\n",
       "Servidor Público              299\n",
       "MEI                           275\n",
       "Aposentado                    267\n",
       "Funcionário Público           216\n",
       "Menor Aprendiz                 85\n",
       "Desempregado                    3\n",
       "Estagiário                      1\n",
       "Name: count, dtype: int64"
      ]
     },
     "execution_count": 103,
     "metadata": {},
     "output_type": "execute_result"
    }
   ],
   "source": [
    "df['classe_trabalho'].value_counts()"
   ]
  },
  {
   "cell_type": "code",
   "execution_count": 104,
   "id": "27427574",
   "metadata": {},
   "outputs": [
    {
     "data": {
      "text/plain": [
       "0    Funcionário Setor Privado\n",
       "Name: classe_trabalho, dtype: object"
      ]
     },
     "execution_count": 104,
     "metadata": {},
     "output_type": "execute_result"
    }
   ],
   "source": [
    "df['classe_trabalho'].mode()"
   ]
  },
  {
   "cell_type": "code",
   "execution_count": 105,
   "id": "e5b9ce2a",
   "metadata": {},
   "outputs": [
    {
     "data": {
      "text/plain": [
       "'Funcionário Setor Privado'"
      ]
     },
     "execution_count": 105,
     "metadata": {},
     "output_type": "execute_result"
    }
   ],
   "source": [
    "df['classe_trabalho'].mode()[0]"
   ]
  },
  {
   "cell_type": "code",
   "execution_count": 106,
   "id": "4fe43cf9",
   "metadata": {},
   "outputs": [
    {
     "name": "stdout",
     "output_type": "stream",
     "text": [
      "Funcionário Setor Privado\n"
     ]
    }
   ],
   "source": [
    "moda = df['classe_trabalho'].mode()[0]\n",
    "print(moda)"
   ]
  },
  {
   "cell_type": "code",
   "execution_count": 113,
   "id": "1f306490",
   "metadata": {},
   "outputs": [
    {
     "data": {
      "text/html": [
       "<div>\n",
       "<style scoped>\n",
       "    .dataframe tbody tr th:only-of-type {\n",
       "        vertical-align: middle;\n",
       "    }\n",
       "\n",
       "    .dataframe tbody tr th {\n",
       "        vertical-align: top;\n",
       "    }\n",
       "\n",
       "    .dataframe thead th {\n",
       "        text-align: right;\n",
       "    }\n",
       "</style>\n",
       "<table border=\"1\" class=\"dataframe\">\n",
       "  <thead>\n",
       "    <tr style=\"text-align: right;\">\n",
       "      <th></th>\n",
       "      <th>idade</th>\n",
       "      <th>classe_trabalho</th>\n",
       "      <th>escolaridade</th>\n",
       "      <th>anos_estudo</th>\n",
       "      <th>estado_civil</th>\n",
       "      <th>raca</th>\n",
       "      <th>sexo</th>\n",
       "      <th>UF</th>\n",
       "      <th>região</th>\n",
       "      <th>qtde_filhos</th>\n",
       "      <th>salario</th>\n",
       "    </tr>\n",
       "  </thead>\n",
       "  <tbody>\n",
       "    <tr>\n",
       "      <th>61</th>\n",
       "      <td>32</td>\n",
       "      <td>NaN</td>\n",
       "      <td>Ensino Fundamental Incompleto</td>\n",
       "      <td>4</td>\n",
       "      <td>União Estável</td>\n",
       "      <td>Branco</td>\n",
       "      <td>Masculino</td>\n",
       "      <td>MA</td>\n",
       "      <td>Nordeste</td>\n",
       "      <td>4.0</td>\n",
       "      <td>1100.0</td>\n",
       "    </tr>\n",
       "    <tr>\n",
       "      <th>69</th>\n",
       "      <td>25</td>\n",
       "      <td>NaN</td>\n",
       "      <td>Ensino Médio Completo</td>\n",
       "      <td>10</td>\n",
       "      <td>Solteiro</td>\n",
       "      <td>Branco</td>\n",
       "      <td>Masculino</td>\n",
       "      <td>BA</td>\n",
       "      <td>Nordeste</td>\n",
       "      <td>3.0</td>\n",
       "      <td>3450.0</td>\n",
       "    </tr>\n",
       "    <tr>\n",
       "      <th>127</th>\n",
       "      <td>35</td>\n",
       "      <td>NaN</td>\n",
       "      <td>Ensino Médio Incompleto</td>\n",
       "      <td>9</td>\n",
       "      <td>Casado</td>\n",
       "      <td>Amarelo</td>\n",
       "      <td>Masculino</td>\n",
       "      <td>PR</td>\n",
       "      <td>Sul</td>\n",
       "      <td>4.0</td>\n",
       "      <td>1100.0</td>\n",
       "    </tr>\n",
       "    <tr>\n",
       "      <th>148</th>\n",
       "      <td>43</td>\n",
       "      <td>NaN</td>\n",
       "      <td>Ensino Médio Completo</td>\n",
       "      <td>10</td>\n",
       "      <td>Divorciado</td>\n",
       "      <td>Branco</td>\n",
       "      <td>Feminino</td>\n",
       "      <td>SE</td>\n",
       "      <td>Nordeste</td>\n",
       "      <td>0.0</td>\n",
       "      <td>2490.0</td>\n",
       "    </tr>\n",
       "    <tr>\n",
       "      <th>153</th>\n",
       "      <td>52</td>\n",
       "      <td>NaN</td>\n",
       "      <td>Ensino Médio Incompleto</td>\n",
       "      <td>9</td>\n",
       "      <td>Divorciado</td>\n",
       "      <td>Branco</td>\n",
       "      <td>Masculino</td>\n",
       "      <td>SP</td>\n",
       "      <td>Sudeste</td>\n",
       "      <td>1.0</td>\n",
       "      <td>1100.0</td>\n",
       "    </tr>\n",
       "    <tr>\n",
       "      <th>...</th>\n",
       "      <td>...</td>\n",
       "      <td>...</td>\n",
       "      <td>...</td>\n",
       "      <td>...</td>\n",
       "      <td>...</td>\n",
       "      <td>...</td>\n",
       "      <td>...</td>\n",
       "      <td>...</td>\n",
       "      <td>...</td>\n",
       "      <td>...</td>\n",
       "      <td>...</td>\n",
       "    </tr>\n",
       "    <tr>\n",
       "      <th>7931</th>\n",
       "      <td>51</td>\n",
       "      <td>NaN</td>\n",
       "      <td>Ensino Médio Completo</td>\n",
       "      <td>10</td>\n",
       "      <td>Divorciado</td>\n",
       "      <td>Branco</td>\n",
       "      <td>Feminino</td>\n",
       "      <td>PA</td>\n",
       "      <td>Norte</td>\n",
       "      <td>2.0</td>\n",
       "      <td>2660.0</td>\n",
       "    </tr>\n",
       "    <tr>\n",
       "      <th>7952</th>\n",
       "      <td>19</td>\n",
       "      <td>NaN</td>\n",
       "      <td>Ensino Médio Completo</td>\n",
       "      <td>10</td>\n",
       "      <td>Solteiro</td>\n",
       "      <td>Branco</td>\n",
       "      <td>Feminino</td>\n",
       "      <td>GO</td>\n",
       "      <td>Centro-Oeste</td>\n",
       "      <td>0.0</td>\n",
       "      <td>2581.0</td>\n",
       "    </tr>\n",
       "    <tr>\n",
       "      <th>7960</th>\n",
       "      <td>30</td>\n",
       "      <td>NaN</td>\n",
       "      <td>Ensino Fundamental Completo</td>\n",
       "      <td>5</td>\n",
       "      <td>Solteiro</td>\n",
       "      <td>Branco</td>\n",
       "      <td>Feminino</td>\n",
       "      <td>TO</td>\n",
       "      <td>Norte</td>\n",
       "      <td>4.0</td>\n",
       "      <td>1100.0</td>\n",
       "    </tr>\n",
       "    <tr>\n",
       "      <th>7988</th>\n",
       "      <td>20</td>\n",
       "      <td>NaN</td>\n",
       "      <td>Ensino Médio Completo</td>\n",
       "      <td>10</td>\n",
       "      <td>Solteiro</td>\n",
       "      <td>Branco</td>\n",
       "      <td>Masculino</td>\n",
       "      <td>MA</td>\n",
       "      <td>Nordeste</td>\n",
       "      <td>2.0</td>\n",
       "      <td>3610.0</td>\n",
       "    </tr>\n",
       "    <tr>\n",
       "      <th>7996</th>\n",
       "      <td>44</td>\n",
       "      <td>NaN</td>\n",
       "      <td>Ensino Médio Completo</td>\n",
       "      <td>10</td>\n",
       "      <td>Casado</td>\n",
       "      <td>Branco</td>\n",
       "      <td>Masculino</td>\n",
       "      <td>BA</td>\n",
       "      <td>Nordeste</td>\n",
       "      <td>0.0</td>\n",
       "      <td>3729.0</td>\n",
       "    </tr>\n",
       "  </tbody>\n",
       "</table>\n",
       "<p>387 rows × 11 columns</p>\n",
       "</div>"
      ],
      "text/plain": [
       "      idade classe_trabalho                   escolaridade  anos_estudo  \\\n",
       "61       32             NaN  Ensino Fundamental Incompleto            4   \n",
       "69       25             NaN          Ensino Médio Completo           10   \n",
       "127      35             NaN        Ensino Médio Incompleto            9   \n",
       "148      43             NaN          Ensino Médio Completo           10   \n",
       "153      52             NaN        Ensino Médio Incompleto            9   \n",
       "...     ...             ...                            ...          ...   \n",
       "7931     51             NaN          Ensino Médio Completo           10   \n",
       "7952     19             NaN          Ensino Médio Completo           10   \n",
       "7960     30             NaN    Ensino Fundamental Completo            5   \n",
       "7988     20             NaN          Ensino Médio Completo           10   \n",
       "7996     44             NaN          Ensino Médio Completo           10   \n",
       "\n",
       "       estado_civil     raca       sexo  UF        região  qtde_filhos  \\\n",
       "61    União Estável   Branco  Masculino  MA      Nordeste          4.0   \n",
       "69         Solteiro   Branco  Masculino  BA      Nordeste          3.0   \n",
       "127          Casado  Amarelo  Masculino  PR           Sul          4.0   \n",
       "148      Divorciado   Branco   Feminino  SE      Nordeste          0.0   \n",
       "153      Divorciado   Branco  Masculino  SP       Sudeste          1.0   \n",
       "...             ...      ...        ...  ..           ...          ...   \n",
       "7931     Divorciado   Branco   Feminino  PA         Norte          2.0   \n",
       "7952       Solteiro   Branco   Feminino  GO  Centro-Oeste          0.0   \n",
       "7960       Solteiro   Branco   Feminino  TO         Norte          4.0   \n",
       "7988       Solteiro   Branco  Masculino  MA      Nordeste          2.0   \n",
       "7996         Casado   Branco  Masculino  BA      Nordeste          0.0   \n",
       "\n",
       "      salario  \n",
       "61     1100.0  \n",
       "69     3450.0  \n",
       "127    1100.0  \n",
       "148    2490.0  \n",
       "153    1100.0  \n",
       "...       ...  \n",
       "7931   2660.0  \n",
       "7952   2581.0  \n",
       "7960   1100.0  \n",
       "7988   3610.0  \n",
       "7996   3729.0  \n",
       "\n",
       "[387 rows x 11 columns]"
      ]
     },
     "execution_count": 113,
     "metadata": {},
     "output_type": "execute_result"
    }
   ],
   "source": [
    "#A moda sçao funcionarios do setor privado, abaixo estamos gravando dados originais com seus index, para comparativo ápos alteração\n",
    "filtro = df['classe_trabalho'].isna()\n",
    "index_ausentes = df[filtro].index\n",
    "df.loc[index_ausentes]"
   ]
  },
  {
   "cell_type": "code",
   "execution_count": 92,
   "id": "81af9b3d",
   "metadata": {},
   "outputs": [],
   "source": [
    "df['classe_trabalho']= df['classe_trabalho'].fillna(value=moda)"
   ]
  },
  {
   "cell_type": "code",
   "execution_count": 120,
   "id": "afe71d6b",
   "metadata": {},
   "outputs": [],
   "source": [
    "#Vamos criar um função para armazenar os index para comparativos e reaproveitamento do código\n",
    "\n",
    "def verifica_dados_ausentes(dataframe, coluna):\n",
    "    filtro = dataframe[coluna].isna()\n",
    "    index_dados_ausentes = dataframe[filtro].index\n",
    "    display(dataframe.loc[index_dados_ausentes])\n",
    "    return index_dados_ausentes"
   ]
  },
  {
   "cell_type": "code",
   "execution_count": 128,
   "id": "b929d37c",
   "metadata": {},
   "outputs": [
    {
     "data": {
      "text/html": [
       "<div>\n",
       "<style scoped>\n",
       "    .dataframe tbody tr th:only-of-type {\n",
       "        vertical-align: middle;\n",
       "    }\n",
       "\n",
       "    .dataframe tbody tr th {\n",
       "        vertical-align: top;\n",
       "    }\n",
       "\n",
       "    .dataframe thead th {\n",
       "        text-align: right;\n",
       "    }\n",
       "</style>\n",
       "<table border=\"1\" class=\"dataframe\">\n",
       "  <thead>\n",
       "    <tr style=\"text-align: right;\">\n",
       "      <th></th>\n",
       "      <th>idade</th>\n",
       "      <th>classe_trabalho</th>\n",
       "      <th>escolaridade</th>\n",
       "      <th>anos_estudo</th>\n",
       "      <th>estado_civil</th>\n",
       "      <th>raca</th>\n",
       "      <th>sexo</th>\n",
       "      <th>UF</th>\n",
       "      <th>região</th>\n",
       "      <th>qtde_filhos</th>\n",
       "      <th>salario</th>\n",
       "    </tr>\n",
       "  </thead>\n",
       "  <tbody>\n",
       "  </tbody>\n",
       "</table>\n",
       "</div>"
      ],
      "text/plain": [
       "Empty DataFrame\n",
       "Columns: [idade, classe_trabalho, escolaridade, anos_estudo, estado_civil, raca, sexo, UF, região, qtde_filhos, salario]\n",
       "Index: []"
      ]
     },
     "metadata": {},
     "output_type": "display_data"
    },
    {
     "data": {
      "text/plain": [
       "Index([], dtype='int64')"
      ]
     },
     "execution_count": 128,
     "metadata": {},
     "output_type": "execute_result"
    }
   ],
   "source": [
    "index_ausente_classe_trabalho = verifica_dados_ausentes(dataframe = df , coluna ='classe_trabalho')\n",
    "index_ausente_classe_trabalho"
   ]
  },
  {
   "cell_type": "code",
   "execution_count": 124,
   "id": "ffa3d3f9",
   "metadata": {},
   "outputs": [
    {
     "data": {
      "text/html": [
       "<div>\n",
       "<style scoped>\n",
       "    .dataframe tbody tr th:only-of-type {\n",
       "        vertical-align: middle;\n",
       "    }\n",
       "\n",
       "    .dataframe tbody tr th {\n",
       "        vertical-align: top;\n",
       "    }\n",
       "\n",
       "    .dataframe thead th {\n",
       "        text-align: right;\n",
       "    }\n",
       "</style>\n",
       "<table border=\"1\" class=\"dataframe\">\n",
       "  <thead>\n",
       "    <tr style=\"text-align: right;\">\n",
       "      <th></th>\n",
       "      <th>idade</th>\n",
       "      <th>classe_trabalho</th>\n",
       "      <th>escolaridade</th>\n",
       "      <th>anos_estudo</th>\n",
       "      <th>estado_civil</th>\n",
       "      <th>raca</th>\n",
       "      <th>sexo</th>\n",
       "      <th>UF</th>\n",
       "      <th>região</th>\n",
       "      <th>qtde_filhos</th>\n",
       "      <th>salario</th>\n",
       "    </tr>\n",
       "  </thead>\n",
       "  <tbody>\n",
       "    <tr>\n",
       "      <th>12</th>\n",
       "      <td>23</td>\n",
       "      <td>Funcionário Setor Privado</td>\n",
       "      <td>Pós-Graduado</td>\n",
       "      <td>13</td>\n",
       "      <td>Solteiro</td>\n",
       "      <td>Branco</td>\n",
       "      <td>Feminino</td>\n",
       "      <td>PE</td>\n",
       "      <td>Nordeste</td>\n",
       "      <td>NaN</td>\n",
       "      <td>5316.0</td>\n",
       "    </tr>\n",
       "    <tr>\n",
       "      <th>20</th>\n",
       "      <td>40</td>\n",
       "      <td>Funcionário Setor Privado</td>\n",
       "      <td>Doutorado</td>\n",
       "      <td>16</td>\n",
       "      <td>Casado</td>\n",
       "      <td>Branco</td>\n",
       "      <td>Masculino</td>\n",
       "      <td>PR</td>\n",
       "      <td>Sul</td>\n",
       "      <td>NaN</td>\n",
       "      <td>12535.0</td>\n",
       "    </tr>\n",
       "  </tbody>\n",
       "</table>\n",
       "</div>"
      ],
      "text/plain": [
       "    idade            classe_trabalho  escolaridade  anos_estudo estado_civil  \\\n",
       "12     23  Funcionário Setor Privado  Pós-Graduado           13     Solteiro   \n",
       "20     40  Funcionário Setor Privado     Doutorado           16       Casado   \n",
       "\n",
       "      raca       sexo  UF    região  qtde_filhos  salario  \n",
       "12  Branco   Feminino  PE  Nordeste          NaN   5316.0  \n",
       "20  Branco  Masculino  PR       Sul          NaN  12535.0  "
      ]
     },
     "metadata": {},
     "output_type": "display_data"
    },
    {
     "data": {
      "text/plain": [
       "Index([12, 20], dtype='int64')"
      ]
     },
     "execution_count": 124,
     "metadata": {},
     "output_type": "execute_result"
    }
   ],
   "source": [
    "index_ausente_classe_trabalho = verifica_dados_ausentes(dataframe = df , coluna ='qtde_filhos')\n",
    "index_ausente_classe_trabalho"
   ]
  },
  {
   "cell_type": "code",
   "execution_count": 131,
   "id": "c2eeeac8",
   "metadata": {},
   "outputs": [],
   "source": [
    "df['classe_trabalho'] = df['classe_trabalho'].fillna(value=moda)"
   ]
  },
  {
   "cell_type": "code",
   "execution_count": 132,
   "id": "6a922ec6",
   "metadata": {},
   "outputs": [
    {
     "data": {
      "text/html": [
       "<div>\n",
       "<style scoped>\n",
       "    .dataframe tbody tr th:only-of-type {\n",
       "        vertical-align: middle;\n",
       "    }\n",
       "\n",
       "    .dataframe tbody tr th {\n",
       "        vertical-align: top;\n",
       "    }\n",
       "\n",
       "    .dataframe thead th {\n",
       "        text-align: right;\n",
       "    }\n",
       "</style>\n",
       "<table border=\"1\" class=\"dataframe\">\n",
       "  <thead>\n",
       "    <tr style=\"text-align: right;\">\n",
       "      <th></th>\n",
       "      <th>idade</th>\n",
       "      <th>classe_trabalho</th>\n",
       "      <th>escolaridade</th>\n",
       "      <th>anos_estudo</th>\n",
       "      <th>estado_civil</th>\n",
       "      <th>raca</th>\n",
       "      <th>sexo</th>\n",
       "      <th>UF</th>\n",
       "      <th>região</th>\n",
       "      <th>qtde_filhos</th>\n",
       "      <th>salario</th>\n",
       "    </tr>\n",
       "  </thead>\n",
       "  <tbody>\n",
       "  </tbody>\n",
       "</table>\n",
       "</div>"
      ],
      "text/plain": [
       "Empty DataFrame\n",
       "Columns: [idade, classe_trabalho, escolaridade, anos_estudo, estado_civil, raca, sexo, UF, região, qtde_filhos, salario]\n",
       "Index: []"
      ]
     },
     "execution_count": 132,
     "metadata": {},
     "output_type": "execute_result"
    }
   ],
   "source": [
    "df.loc[index_ausente_classe_trabalho]"
   ]
  },
  {
   "cell_type": "code",
   "execution_count": 143,
   "id": "fe8c8388",
   "metadata": {},
   "outputs": [
    {
     "data": {
      "text/plain": [
       "idade              0\n",
       "classe_trabalho    0\n",
       "escolaridade       0\n",
       "anos_estudo        0\n",
       "estado_civil       0\n",
       "raca               0\n",
       "sexo               0\n",
       "UF                 0\n",
       "região             0\n",
       "qtde_filhos        0\n",
       "salario            0\n",
       "dtype: int64"
      ]
     },
     "execution_count": 143,
     "metadata": {},
     "output_type": "execute_result"
    }
   ],
   "source": [
    "df.isna().sum()"
   ]
  },
  {
   "cell_type": "code",
   "execution_count": 144,
   "id": "c5d3bc64",
   "metadata": {},
   "outputs": [
    {
     "name": "stdout",
     "output_type": "stream",
     "text": [
      "<class 'pandas.core.frame.DataFrame'>\n",
      "RangeIndex: 7999 entries, 0 to 7998\n",
      "Data columns (total 11 columns):\n",
      " #   Column           Non-Null Count  Dtype  \n",
      "---  ------           --------------  -----  \n",
      " 0   idade            7999 non-null   int64  \n",
      " 1   classe_trabalho  7999 non-null   object \n",
      " 2   escolaridade     7999 non-null   object \n",
      " 3   anos_estudo      7999 non-null   int64  \n",
      " 4   estado_civil     7999 non-null   object \n",
      " 5   raca             7999 non-null   object \n",
      " 6   sexo             7999 non-null   object \n",
      " 7   UF               7999 non-null   object \n",
      " 8   região           7999 non-null   object \n",
      " 9   qtde_filhos      7999 non-null   float64\n",
      " 10  salario          7999 non-null   float64\n",
      "dtypes: float64(2), int64(2), object(7)\n",
      "memory usage: 687.5+ KB\n"
     ]
    }
   ],
   "source": [
    "df.info()"
   ]
  },
  {
   "cell_type": "code",
   "execution_count": 146,
   "id": "0485038f",
   "metadata": {},
   "outputs": [],
   "source": [
    "#Agora que não temos dados zerados, podemos tratar o tipo do dado da coluna'qtde_filhos' que era float para inteiro\n",
    "\n",
    "df['qtde_filhos'] = df['qtde_filhos'].astype('int')"
   ]
  },
  {
   "cell_type": "code",
   "execution_count": 147,
   "id": "e9aeb8b4",
   "metadata": {},
   "outputs": [
    {
     "name": "stdout",
     "output_type": "stream",
     "text": [
      "<class 'pandas.core.frame.DataFrame'>\n",
      "RangeIndex: 7999 entries, 0 to 7998\n",
      "Data columns (total 11 columns):\n",
      " #   Column           Non-Null Count  Dtype  \n",
      "---  ------           --------------  -----  \n",
      " 0   idade            7999 non-null   int64  \n",
      " 1   classe_trabalho  7999 non-null   object \n",
      " 2   escolaridade     7999 non-null   object \n",
      " 3   anos_estudo      7999 non-null   int64  \n",
      " 4   estado_civil     7999 non-null   object \n",
      " 5   raca             7999 non-null   object \n",
      " 6   sexo             7999 non-null   object \n",
      " 7   UF               7999 non-null   object \n",
      " 8   região           7999 non-null   object \n",
      " 9   qtde_filhos      7999 non-null   int64  \n",
      " 10  salario          7999 non-null   float64\n",
      "dtypes: float64(1), int64(3), object(7)\n",
      "memory usage: 687.5+ KB\n"
     ]
    }
   ],
   "source": [
    "df.info()"
   ]
  }
 ],
 "metadata": {
  "kernelspec": {
   "display_name": "pucminas",
   "language": "python",
   "name": "pucminas"
  },
  "language_info": {
   "codemirror_mode": {
    "name": "ipython",
    "version": 3
   },
   "file_extension": ".py",
   "mimetype": "text/x-python",
   "name": "python",
   "nbconvert_exporter": "python",
   "pygments_lexer": "ipython3",
   "version": "3.10.0"
  }
 },
 "nbformat": 4,
 "nbformat_minor": 5
}
